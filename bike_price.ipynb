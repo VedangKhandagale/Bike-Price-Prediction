{
  "cells": [
    {
      "cell_type": "code",
      "execution_count": 49,
      "metadata": {
        "id": "yU0QCdTvYazO"
      },
      "outputs": [],
      "source": [
        "import numpy as np\n",
        "import pandas as pd\n",
        "import sklearn\n",
        "from sklearn.model_selection import train_test_split\n",
        "from sklearn.linear_model import LinearRegression\n",
        "from sklearn.metrics import r2_score\n",
        "from sklearn.preprocessing import OneHotEncoder\n",
        "from sklearn.compose import make_column_transformer\n",
        "from sklearn.pipeline import make_pipeline\n",
        "import pickle"
      ]
    },
    {
      "cell_type": "code",
      "execution_count": 46,
      "metadata": {
        "colab": {
          "base_uri": "https://localhost:8080/"
        },
        "id": "QkRnS9lg-SOE",
        "outputId": "1e2a90e4-b74e-4b2d-ec20-528bfc7f67b2"
      },
      "outputs": [
        {
          "name": "stdout",
          "output_type": "stream",
          "text": [
            "4.0\n"
          ]
        }
      ],
      "source": [
        "print(pickle.format_version)"
      ]
    },
    {
      "cell_type": "code",
      "execution_count": 50,
      "metadata": {
        "colab": {
          "base_uri": "https://localhost:8080/"
        },
        "id": "be7e8X5I-phz",
        "outputId": "ca97705a-f8d1-4cf2-a783-a897db8f2d3d"
      },
      "outputs": [
        {
          "name": "stdout",
          "output_type": "stream",
          "text": [
            "1.2.2\n"
          ]
        }
      ],
      "source": [
        "print(sklearn.__version__)\n"
      ]
    },
    {
      "cell_type": "code",
      "execution_count": 31,
      "metadata": {
        "id": "XxXcy1XMYvVk"
      },
      "outputs": [],
      "source": [
        "df = pd.read_csv(\"/content/Used_Bikes.csv\")"
      ]
    },
    {
      "cell_type": "code",
      "execution_count": 32,
      "metadata": {
        "colab": {
          "base_uri": "https://localhost:8080/",
          "height": 597
        },
        "id": "NA46jz9UY0Kd",
        "outputId": "36766525-1d67-4509-e0fc-c03f5cae1b43"
      },
      "outputs": [
        {
          "data": {
            "application/vnd.google.colaboratory.intrinsic+json": {
              "summary": "{\n  \"name\": \"df\",\n  \"rows\": 32648,\n  \"fields\": [\n    {\n      \"column\": \"bike_name\",\n      \"properties\": {\n        \"dtype\": \"category\",\n        \"num_unique_values\": 471,\n        \"samples\": [\n          \"Yamaha FZ25 ABS 250cc\",\n          \"Yamaha FZ S V 2.0 150cc\",\n          \"Royal Enfield Thunderbird 350cc\"\n        ],\n        \"semantic_type\": \"\",\n        \"description\": \"\"\n      }\n    },\n    {\n      \"column\": \"price\",\n      \"properties\": {\n        \"dtype\": \"number\",\n        \"std\": 90718.59520524176,\n        \"min\": 4400.0,\n        \"max\": 1900000.0,\n        \"num_unique_values\": 1232,\n        \"samples\": [\n          158400.0,\n          43198.0,\n          22500.0\n        ],\n        \"semantic_type\": \"\",\n        \"description\": \"\"\n      }\n    },\n    {\n      \"column\": \"city\",\n      \"properties\": {\n        \"dtype\": \"category\",\n        \"num_unique_values\": 443,\n        \"samples\": [\n          \"Dwarka\",\n          \"Buxar\",\n          \"Chhatarpur\"\n        ],\n        \"semantic_type\": \"\",\n        \"description\": \"\"\n      }\n    },\n    {\n      \"column\": \"kms_driven\",\n      \"properties\": {\n        \"dtype\": \"number\",\n        \"std\": 22208.527694960114,\n        \"min\": 1.0,\n        \"max\": 750000.0,\n        \"num_unique_values\": 3722,\n        \"samples\": [\n          12045.0,\n          3679.0,\n          36083.0\n        ],\n        \"semantic_type\": \"\",\n        \"description\": \"\"\n      }\n    },\n    {\n      \"column\": \"owner\",\n      \"properties\": {\n        \"dtype\": \"category\",\n        \"num_unique_values\": 4,\n        \"samples\": [\n          \"Second Owner\",\n          \"Fourth Owner Or More\",\n          \"First Owner\"\n        ],\n        \"semantic_type\": \"\",\n        \"description\": \"\"\n      }\n    },\n    {\n      \"column\": \"age\",\n      \"properties\": {\n        \"dtype\": \"number\",\n        \"std\": 4.031700112790309,\n        \"min\": 1.0,\n        \"max\": 63.0,\n        \"num_unique_values\": 35,\n        \"samples\": [\n          20.0,\n          11.0,\n          37.0\n        ],\n        \"semantic_type\": \"\",\n        \"description\": \"\"\n      }\n    },\n    {\n      \"column\": \"power\",\n      \"properties\": {\n        \"dtype\": \"number\",\n        \"std\": 134.42886836184613,\n        \"min\": 100.0,\n        \"max\": 1800.0,\n        \"num_unique_values\": 53,\n        \"samples\": [\n          135.0,\n          800.0,\n          796.0\n        ],\n        \"semantic_type\": \"\",\n        \"description\": \"\"\n      }\n    },\n    {\n      \"column\": \"brand\",\n      \"properties\": {\n        \"dtype\": \"category\",\n        \"num_unique_values\": 23,\n        \"samples\": [\n          \"Jawa\",\n          \"KTM\",\n          \"TVS\"\n        ],\n        \"semantic_type\": \"\",\n        \"description\": \"\"\n      }\n    }\n  ]\n}",
              "type": "dataframe",
              "variable_name": "df"
            },
            "text/html": [
              "\n",
              "  <div id=\"df-4539528e-0a7c-4b60-b10d-aaaa998d892d\" class=\"colab-df-container\">\n",
              "    <div>\n",
              "<style scoped>\n",
              "    .dataframe tbody tr th:only-of-type {\n",
              "        vertical-align: middle;\n",
              "    }\n",
              "\n",
              "    .dataframe tbody tr th {\n",
              "        vertical-align: top;\n",
              "    }\n",
              "\n",
              "    .dataframe thead th {\n",
              "        text-align: right;\n",
              "    }\n",
              "</style>\n",
              "<table border=\"1\" class=\"dataframe\">\n",
              "  <thead>\n",
              "    <tr style=\"text-align: right;\">\n",
              "      <th></th>\n",
              "      <th>bike_name</th>\n",
              "      <th>price</th>\n",
              "      <th>city</th>\n",
              "      <th>kms_driven</th>\n",
              "      <th>owner</th>\n",
              "      <th>age</th>\n",
              "      <th>power</th>\n",
              "      <th>brand</th>\n",
              "    </tr>\n",
              "  </thead>\n",
              "  <tbody>\n",
              "    <tr>\n",
              "      <th>0</th>\n",
              "      <td>TVS Star City Plus Dual Tone 110cc</td>\n",
              "      <td>35000.0</td>\n",
              "      <td>Ahmedabad</td>\n",
              "      <td>17654.0</td>\n",
              "      <td>First Owner</td>\n",
              "      <td>3.0</td>\n",
              "      <td>110.0</td>\n",
              "      <td>TVS</td>\n",
              "    </tr>\n",
              "    <tr>\n",
              "      <th>1</th>\n",
              "      <td>Royal Enfield Classic 350cc</td>\n",
              "      <td>119900.0</td>\n",
              "      <td>Delhi</td>\n",
              "      <td>11000.0</td>\n",
              "      <td>First Owner</td>\n",
              "      <td>4.0</td>\n",
              "      <td>350.0</td>\n",
              "      <td>Royal Enfield</td>\n",
              "    </tr>\n",
              "    <tr>\n",
              "      <th>2</th>\n",
              "      <td>Triumph Daytona 675R</td>\n",
              "      <td>600000.0</td>\n",
              "      <td>Delhi</td>\n",
              "      <td>110.0</td>\n",
              "      <td>First Owner</td>\n",
              "      <td>8.0</td>\n",
              "      <td>675.0</td>\n",
              "      <td>Triumph</td>\n",
              "    </tr>\n",
              "    <tr>\n",
              "      <th>3</th>\n",
              "      <td>TVS Apache RTR 180cc</td>\n",
              "      <td>65000.0</td>\n",
              "      <td>Bangalore</td>\n",
              "      <td>16329.0</td>\n",
              "      <td>First Owner</td>\n",
              "      <td>4.0</td>\n",
              "      <td>180.0</td>\n",
              "      <td>TVS</td>\n",
              "    </tr>\n",
              "    <tr>\n",
              "      <th>4</th>\n",
              "      <td>Yamaha FZ S V 2.0 150cc-Ltd. Edition</td>\n",
              "      <td>80000.0</td>\n",
              "      <td>Bangalore</td>\n",
              "      <td>10000.0</td>\n",
              "      <td>First Owner</td>\n",
              "      <td>3.0</td>\n",
              "      <td>150.0</td>\n",
              "      <td>Yamaha</td>\n",
              "    </tr>\n",
              "    <tr>\n",
              "      <th>...</th>\n",
              "      <td>...</td>\n",
              "      <td>...</td>\n",
              "      <td>...</td>\n",
              "      <td>...</td>\n",
              "      <td>...</td>\n",
              "      <td>...</td>\n",
              "      <td>...</td>\n",
              "      <td>...</td>\n",
              "    </tr>\n",
              "    <tr>\n",
              "      <th>32643</th>\n",
              "      <td>Hero Passion Pro 100cc</td>\n",
              "      <td>39000.0</td>\n",
              "      <td>Delhi</td>\n",
              "      <td>22000.0</td>\n",
              "      <td>First Owner</td>\n",
              "      <td>4.0</td>\n",
              "      <td>100.0</td>\n",
              "      <td>Hero</td>\n",
              "    </tr>\n",
              "    <tr>\n",
              "      <th>32644</th>\n",
              "      <td>TVS Apache RTR 180cc</td>\n",
              "      <td>30000.0</td>\n",
              "      <td>Karnal</td>\n",
              "      <td>6639.0</td>\n",
              "      <td>First Owner</td>\n",
              "      <td>9.0</td>\n",
              "      <td>180.0</td>\n",
              "      <td>TVS</td>\n",
              "    </tr>\n",
              "    <tr>\n",
              "      <th>32645</th>\n",
              "      <td>Bajaj Avenger Street 220</td>\n",
              "      <td>60000.0</td>\n",
              "      <td>Delhi</td>\n",
              "      <td>20373.0</td>\n",
              "      <td>First Owner</td>\n",
              "      <td>6.0</td>\n",
              "      <td>220.0</td>\n",
              "      <td>Bajaj</td>\n",
              "    </tr>\n",
              "    <tr>\n",
              "      <th>32646</th>\n",
              "      <td>Hero Super Splendor 125cc</td>\n",
              "      <td>15600.0</td>\n",
              "      <td>Jaipur</td>\n",
              "      <td>84186.0</td>\n",
              "      <td>First Owner</td>\n",
              "      <td>16.0</td>\n",
              "      <td>125.0</td>\n",
              "      <td>Hero</td>\n",
              "    </tr>\n",
              "    <tr>\n",
              "      <th>32647</th>\n",
              "      <td>Bajaj Pulsar 150cc</td>\n",
              "      <td>22000.0</td>\n",
              "      <td>Pune</td>\n",
              "      <td>60857.0</td>\n",
              "      <td>First Owner</td>\n",
              "      <td>13.0</td>\n",
              "      <td>150.0</td>\n",
              "      <td>Bajaj</td>\n",
              "    </tr>\n",
              "  </tbody>\n",
              "</table>\n",
              "<p>32648 rows × 8 columns</p>\n",
              "</div>\n",
              "    <div class=\"colab-df-buttons\">\n",
              "\n",
              "  <div class=\"colab-df-container\">\n",
              "    <button class=\"colab-df-convert\" onclick=\"convertToInteractive('df-4539528e-0a7c-4b60-b10d-aaaa998d892d')\"\n",
              "            title=\"Convert this dataframe to an interactive table.\"\n",
              "            style=\"display:none;\">\n",
              "\n",
              "  <svg xmlns=\"http://www.w3.org/2000/svg\" height=\"24px\" viewBox=\"0 -960 960 960\">\n",
              "    <path d=\"M120-120v-720h720v720H120Zm60-500h600v-160H180v160Zm220 220h160v-160H400v160Zm0 220h160v-160H400v160ZM180-400h160v-160H180v160Zm440 0h160v-160H620v160ZM180-180h160v-160H180v160Zm440 0h160v-160H620v160Z\"/>\n",
              "  </svg>\n",
              "    </button>\n",
              "\n",
              "  <style>\n",
              "    .colab-df-container {\n",
              "      display:flex;\n",
              "      gap: 12px;\n",
              "    }\n",
              "\n",
              "    .colab-df-convert {\n",
              "      background-color: #E8F0FE;\n",
              "      border: none;\n",
              "      border-radius: 50%;\n",
              "      cursor: pointer;\n",
              "      display: none;\n",
              "      fill: #1967D2;\n",
              "      height: 32px;\n",
              "      padding: 0 0 0 0;\n",
              "      width: 32px;\n",
              "    }\n",
              "\n",
              "    .colab-df-convert:hover {\n",
              "      background-color: #E2EBFA;\n",
              "      box-shadow: 0px 1px 2px rgba(60, 64, 67, 0.3), 0px 1px 3px 1px rgba(60, 64, 67, 0.15);\n",
              "      fill: #174EA6;\n",
              "    }\n",
              "\n",
              "    .colab-df-buttons div {\n",
              "      margin-bottom: 4px;\n",
              "    }\n",
              "\n",
              "    [theme=dark] .colab-df-convert {\n",
              "      background-color: #3B4455;\n",
              "      fill: #D2E3FC;\n",
              "    }\n",
              "\n",
              "    [theme=dark] .colab-df-convert:hover {\n",
              "      background-color: #434B5C;\n",
              "      box-shadow: 0px 1px 3px 1px rgba(0, 0, 0, 0.15);\n",
              "      filter: drop-shadow(0px 1px 2px rgba(0, 0, 0, 0.3));\n",
              "      fill: #FFFFFF;\n",
              "    }\n",
              "  </style>\n",
              "\n",
              "    <script>\n",
              "      const buttonEl =\n",
              "        document.querySelector('#df-4539528e-0a7c-4b60-b10d-aaaa998d892d button.colab-df-convert');\n",
              "      buttonEl.style.display =\n",
              "        google.colab.kernel.accessAllowed ? 'block' : 'none';\n",
              "\n",
              "      async function convertToInteractive(key) {\n",
              "        const element = document.querySelector('#df-4539528e-0a7c-4b60-b10d-aaaa998d892d');\n",
              "        const dataTable =\n",
              "          await google.colab.kernel.invokeFunction('convertToInteractive',\n",
              "                                                    [key], {});\n",
              "        if (!dataTable) return;\n",
              "\n",
              "        const docLinkHtml = 'Like what you see? Visit the ' +\n",
              "          '<a target=\"_blank\" href=https://colab.research.google.com/notebooks/data_table.ipynb>data table notebook</a>'\n",
              "          + ' to learn more about interactive tables.';\n",
              "        element.innerHTML = '';\n",
              "        dataTable['output_type'] = 'display_data';\n",
              "        await google.colab.output.renderOutput(dataTable, element);\n",
              "        const docLink = document.createElement('div');\n",
              "        docLink.innerHTML = docLinkHtml;\n",
              "        element.appendChild(docLink);\n",
              "      }\n",
              "    </script>\n",
              "  </div>\n",
              "\n",
              "\n",
              "<div id=\"df-d11b418b-1a22-441b-a553-6cbc4c220f5e\">\n",
              "  <button class=\"colab-df-quickchart\" onclick=\"quickchart('df-d11b418b-1a22-441b-a553-6cbc4c220f5e')\"\n",
              "            title=\"Suggest charts\"\n",
              "            style=\"display:none;\">\n",
              "\n",
              "<svg xmlns=\"http://www.w3.org/2000/svg\" height=\"24px\"viewBox=\"0 0 24 24\"\n",
              "     width=\"24px\">\n",
              "    <g>\n",
              "        <path d=\"M19 3H5c-1.1 0-2 .9-2 2v14c0 1.1.9 2 2 2h14c1.1 0 2-.9 2-2V5c0-1.1-.9-2-2-2zM9 17H7v-7h2v7zm4 0h-2V7h2v10zm4 0h-2v-4h2v4z\"/>\n",
              "    </g>\n",
              "</svg>\n",
              "  </button>\n",
              "\n",
              "<style>\n",
              "  .colab-df-quickchart {\n",
              "      --bg-color: #E8F0FE;\n",
              "      --fill-color: #1967D2;\n",
              "      --hover-bg-color: #E2EBFA;\n",
              "      --hover-fill-color: #174EA6;\n",
              "      --disabled-fill-color: #AAA;\n",
              "      --disabled-bg-color: #DDD;\n",
              "  }\n",
              "\n",
              "  [theme=dark] .colab-df-quickchart {\n",
              "      --bg-color: #3B4455;\n",
              "      --fill-color: #D2E3FC;\n",
              "      --hover-bg-color: #434B5C;\n",
              "      --hover-fill-color: #FFFFFF;\n",
              "      --disabled-bg-color: #3B4455;\n",
              "      --disabled-fill-color: #666;\n",
              "  }\n",
              "\n",
              "  .colab-df-quickchart {\n",
              "    background-color: var(--bg-color);\n",
              "    border: none;\n",
              "    border-radius: 50%;\n",
              "    cursor: pointer;\n",
              "    display: none;\n",
              "    fill: var(--fill-color);\n",
              "    height: 32px;\n",
              "    padding: 0;\n",
              "    width: 32px;\n",
              "  }\n",
              "\n",
              "  .colab-df-quickchart:hover {\n",
              "    background-color: var(--hover-bg-color);\n",
              "    box-shadow: 0 1px 2px rgba(60, 64, 67, 0.3), 0 1px 3px 1px rgba(60, 64, 67, 0.15);\n",
              "    fill: var(--button-hover-fill-color);\n",
              "  }\n",
              "\n",
              "  .colab-df-quickchart-complete:disabled,\n",
              "  .colab-df-quickchart-complete:disabled:hover {\n",
              "    background-color: var(--disabled-bg-color);\n",
              "    fill: var(--disabled-fill-color);\n",
              "    box-shadow: none;\n",
              "  }\n",
              "\n",
              "  .colab-df-spinner {\n",
              "    border: 2px solid var(--fill-color);\n",
              "    border-color: transparent;\n",
              "    border-bottom-color: var(--fill-color);\n",
              "    animation:\n",
              "      spin 1s steps(1) infinite;\n",
              "  }\n",
              "\n",
              "  @keyframes spin {\n",
              "    0% {\n",
              "      border-color: transparent;\n",
              "      border-bottom-color: var(--fill-color);\n",
              "      border-left-color: var(--fill-color);\n",
              "    }\n",
              "    20% {\n",
              "      border-color: transparent;\n",
              "      border-left-color: var(--fill-color);\n",
              "      border-top-color: var(--fill-color);\n",
              "    }\n",
              "    30% {\n",
              "      border-color: transparent;\n",
              "      border-left-color: var(--fill-color);\n",
              "      border-top-color: var(--fill-color);\n",
              "      border-right-color: var(--fill-color);\n",
              "    }\n",
              "    40% {\n",
              "      border-color: transparent;\n",
              "      border-right-color: var(--fill-color);\n",
              "      border-top-color: var(--fill-color);\n",
              "    }\n",
              "    60% {\n",
              "      border-color: transparent;\n",
              "      border-right-color: var(--fill-color);\n",
              "    }\n",
              "    80% {\n",
              "      border-color: transparent;\n",
              "      border-right-color: var(--fill-color);\n",
              "      border-bottom-color: var(--fill-color);\n",
              "    }\n",
              "    90% {\n",
              "      border-color: transparent;\n",
              "      border-bottom-color: var(--fill-color);\n",
              "    }\n",
              "  }\n",
              "</style>\n",
              "\n",
              "  <script>\n",
              "    async function quickchart(key) {\n",
              "      const quickchartButtonEl =\n",
              "        document.querySelector('#' + key + ' button');\n",
              "      quickchartButtonEl.disabled = true;  // To prevent multiple clicks.\n",
              "      quickchartButtonEl.classList.add('colab-df-spinner');\n",
              "      try {\n",
              "        const charts = await google.colab.kernel.invokeFunction(\n",
              "            'suggestCharts', [key], {});\n",
              "      } catch (error) {\n",
              "        console.error('Error during call to suggestCharts:', error);\n",
              "      }\n",
              "      quickchartButtonEl.classList.remove('colab-df-spinner');\n",
              "      quickchartButtonEl.classList.add('colab-df-quickchart-complete');\n",
              "    }\n",
              "    (() => {\n",
              "      let quickchartButtonEl =\n",
              "        document.querySelector('#df-d11b418b-1a22-441b-a553-6cbc4c220f5e button');\n",
              "      quickchartButtonEl.style.display =\n",
              "        google.colab.kernel.accessAllowed ? 'block' : 'none';\n",
              "    })();\n",
              "  </script>\n",
              "</div>\n",
              "\n",
              "  <div id=\"id_773f1b84-e06b-408d-bda6-8de7229fadfc\">\n",
              "    <style>\n",
              "      .colab-df-generate {\n",
              "        background-color: #E8F0FE;\n",
              "        border: none;\n",
              "        border-radius: 50%;\n",
              "        cursor: pointer;\n",
              "        display: none;\n",
              "        fill: #1967D2;\n",
              "        height: 32px;\n",
              "        padding: 0 0 0 0;\n",
              "        width: 32px;\n",
              "      }\n",
              "\n",
              "      .colab-df-generate:hover {\n",
              "        background-color: #E2EBFA;\n",
              "        box-shadow: 0px 1px 2px rgba(60, 64, 67, 0.3), 0px 1px 3px 1px rgba(60, 64, 67, 0.15);\n",
              "        fill: #174EA6;\n",
              "      }\n",
              "\n",
              "      [theme=dark] .colab-df-generate {\n",
              "        background-color: #3B4455;\n",
              "        fill: #D2E3FC;\n",
              "      }\n",
              "\n",
              "      [theme=dark] .colab-df-generate:hover {\n",
              "        background-color: #434B5C;\n",
              "        box-shadow: 0px 1px 3px 1px rgba(0, 0, 0, 0.15);\n",
              "        filter: drop-shadow(0px 1px 2px rgba(0, 0, 0, 0.3));\n",
              "        fill: #FFFFFF;\n",
              "      }\n",
              "    </style>\n",
              "    <button class=\"colab-df-generate\" onclick=\"generateWithVariable('df')\"\n",
              "            title=\"Generate code using this dataframe.\"\n",
              "            style=\"display:none;\">\n",
              "\n",
              "  <svg xmlns=\"http://www.w3.org/2000/svg\" height=\"24px\"viewBox=\"0 0 24 24\"\n",
              "       width=\"24px\">\n",
              "    <path d=\"M7,19H8.4L18.45,9,17,7.55,7,17.6ZM5,21V16.75L18.45,3.32a2,2,0,0,1,2.83,0l1.4,1.43a1.91,1.91,0,0,1,.58,1.4,1.91,1.91,0,0,1-.58,1.4L9.25,21ZM18.45,9,17,7.55Zm-12,3A5.31,5.31,0,0,0,4.9,8.1,5.31,5.31,0,0,0,1,6.5,5.31,5.31,0,0,0,4.9,4.9,5.31,5.31,0,0,0,6.5,1,5.31,5.31,0,0,0,8.1,4.9,5.31,5.31,0,0,0,12,6.5,5.46,5.46,0,0,0,6.5,12Z\"/>\n",
              "  </svg>\n",
              "    </button>\n",
              "    <script>\n",
              "      (() => {\n",
              "      const buttonEl =\n",
              "        document.querySelector('#id_773f1b84-e06b-408d-bda6-8de7229fadfc button.colab-df-generate');\n",
              "      buttonEl.style.display =\n",
              "        google.colab.kernel.accessAllowed ? 'block' : 'none';\n",
              "\n",
              "      buttonEl.onclick = () => {\n",
              "        google.colab.notebook.generateWithVariable('df');\n",
              "      }\n",
              "      })();\n",
              "    </script>\n",
              "  </div>\n",
              "\n",
              "    </div>\n",
              "  </div>\n"
            ],
            "text/plain": [
              "                                  bike_name     price       city  kms_driven  \\\n",
              "0        TVS Star City Plus Dual Tone 110cc   35000.0  Ahmedabad     17654.0   \n",
              "1               Royal Enfield Classic 350cc  119900.0      Delhi     11000.0   \n",
              "2                      Triumph Daytona 675R  600000.0      Delhi       110.0   \n",
              "3                      TVS Apache RTR 180cc   65000.0  Bangalore     16329.0   \n",
              "4      Yamaha FZ S V 2.0 150cc-Ltd. Edition   80000.0  Bangalore     10000.0   \n",
              "...                                     ...       ...        ...         ...   \n",
              "32643                Hero Passion Pro 100cc   39000.0      Delhi     22000.0   \n",
              "32644                  TVS Apache RTR 180cc   30000.0     Karnal      6639.0   \n",
              "32645              Bajaj Avenger Street 220   60000.0      Delhi     20373.0   \n",
              "32646             Hero Super Splendor 125cc   15600.0     Jaipur     84186.0   \n",
              "32647                    Bajaj Pulsar 150cc   22000.0       Pune     60857.0   \n",
              "\n",
              "             owner   age  power          brand  \n",
              "0      First Owner   3.0  110.0            TVS  \n",
              "1      First Owner   4.0  350.0  Royal Enfield  \n",
              "2      First Owner   8.0  675.0        Triumph  \n",
              "3      First Owner   4.0  180.0            TVS  \n",
              "4      First Owner   3.0  150.0         Yamaha  \n",
              "...            ...   ...    ...            ...  \n",
              "32643  First Owner   4.0  100.0           Hero  \n",
              "32644  First Owner   9.0  180.0            TVS  \n",
              "32645  First Owner   6.0  220.0          Bajaj  \n",
              "32646  First Owner  16.0  125.0           Hero  \n",
              "32647  First Owner  13.0  150.0          Bajaj  \n",
              "\n",
              "[32648 rows x 8 columns]"
            ]
          },
          "execution_count": 32,
          "metadata": {},
          "output_type": "execute_result"
        }
      ],
      "source": [
        "df\n"
      ]
    },
    {
      "cell_type": "code",
      "execution_count": 33,
      "metadata": {
        "colab": {
          "base_uri": "https://localhost:8080/"
        },
        "id": "oN04db3sY0-Q",
        "outputId": "fc4e5c39-86ad-407c-a978-927a97696acf"
      },
      "outputs": [
        {
          "name": "stdout",
          "output_type": "stream",
          "text": [
            "<class 'pandas.core.frame.DataFrame'>\n",
            "RangeIndex: 32648 entries, 0 to 32647\n",
            "Data columns (total 8 columns):\n",
            " #   Column      Non-Null Count  Dtype  \n",
            "---  ------      --------------  -----  \n",
            " 0   bike_name   32648 non-null  object \n",
            " 1   price       32648 non-null  float64\n",
            " 2   city        32648 non-null  object \n",
            " 3   kms_driven  32648 non-null  float64\n",
            " 4   owner       32648 non-null  object \n",
            " 5   age         32648 non-null  float64\n",
            " 6   power       32648 non-null  float64\n",
            " 7   brand       32648 non-null  object \n",
            "dtypes: float64(4), object(4)\n",
            "memory usage: 2.0+ MB\n"
          ]
        }
      ],
      "source": [
        "df.info()"
      ]
    },
    {
      "cell_type": "code",
      "execution_count": 34,
      "metadata": {
        "colab": {
          "base_uri": "https://localhost:8080/"
        },
        "id": "YkMlth-BZMVx",
        "outputId": "c116bf94-35b6-4ee1-d724-83de5365ecd2"
      },
      "outputs": [
        {
          "data": {
            "text/plain": [
              "array(['First Owner', 'Second Owner', 'Third Owner',\n",
              "       'Fourth Owner Or More'], dtype=object)"
            ]
          },
          "execution_count": 34,
          "metadata": {},
          "output_type": "execute_result"
        }
      ],
      "source": [
        "df[\"owner\"].unique()"
      ]
    },
    {
      "cell_type": "code",
      "execution_count": 35,
      "metadata": {
        "colab": {
          "base_uri": "https://localhost:8080/"
        },
        "id": "FyHJ2xewz5dF",
        "outputId": "f63728b6-8a3a-4cff-c97f-f9673f047bdc"
      },
      "outputs": [
        {
          "data": {
            "text/plain": [
              "array([ 110.,  350.,  675.,  180.,  150.,  160.,  100.,  500.,  250.,\n",
              "        200.,  125.,  302.,  220.,  390.,  600.,  900.,  650.,  223.,\n",
              "        410.,  135., 1100.,  765.,  300., 1299.,  750.,  400., 1300.,\n",
              "        821., 1198.,  883.,  959.,  295.,  320.,  310.,  899., 1800.,\n",
              "        535., 1130., 1000., 1200., 1050.,  800., 1262., 1700.,  175.,\n",
              "        865.,  797.,  796.,  149.,  850., 1090.,  502.,  107.])"
            ]
          },
          "execution_count": 35,
          "metadata": {},
          "output_type": "execute_result"
        }
      ],
      "source": [
        "df[\"power\"].unique()"
      ]
    },
    {
      "cell_type": "code",
      "execution_count": 36,
      "metadata": {
        "colab": {
          "base_uri": "https://localhost:8080/"
        },
        "id": "cxUWyBmrZeB7",
        "outputId": "20cbed59-f394-4446-dd9b-076ede002c37"
      },
      "outputs": [
        {
          "data": {
            "text/plain": [
              "bike_name     0\n",
              "price         0\n",
              "city          0\n",
              "kms_driven    0\n",
              "owner         0\n",
              "age           0\n",
              "power         0\n",
              "brand         0\n",
              "dtype: int64"
            ]
          },
          "execution_count": 36,
          "metadata": {},
          "output_type": "execute_result"
        }
      ],
      "source": [
        "df.isna().sum()"
      ]
    },
    {
      "cell_type": "code",
      "execution_count": 37,
      "metadata": {
        "id": "Qglet0oPZqKh"
      },
      "outputs": [],
      "source": [
        "X = df[[\"brand\",\"bike_name\",\"kms_driven\",\"owner\",\"age\",\"power\"]]\n",
        "Y = df[\"price\"]"
      ]
    },
    {
      "cell_type": "code",
      "execution_count": 38,
      "metadata": {
        "id": "hcQMdAh6iEyI"
      },
      "outputs": [],
      "source": [
        "X_train,X_test,Y_train,Y_test= train_test_split(X,Y, test_size=0.3)"
      ]
    },
    {
      "cell_type": "code",
      "execution_count": 39,
      "metadata": {
        "colab": {
          "base_uri": "https://localhost:8080/",
          "height": 74
        },
        "id": "WxAyTJcsivwu",
        "outputId": "33862dce-2426-42d7-8274-fee407f8ad7b"
      },
      "outputs": [
        {
          "data": {
            "text/html": [
              "<style>#sk-container-id-3 {color: black;background-color: white;}#sk-container-id-3 pre{padding: 0;}#sk-container-id-3 div.sk-toggleable {background-color: white;}#sk-container-id-3 label.sk-toggleable__label {cursor: pointer;display: block;width: 100%;margin-bottom: 0;padding: 0.3em;box-sizing: border-box;text-align: center;}#sk-container-id-3 label.sk-toggleable__label-arrow:before {content: \"▸\";float: left;margin-right: 0.25em;color: #696969;}#sk-container-id-3 label.sk-toggleable__label-arrow:hover:before {color: black;}#sk-container-id-3 div.sk-estimator:hover label.sk-toggleable__label-arrow:before {color: black;}#sk-container-id-3 div.sk-toggleable__content {max-height: 0;max-width: 0;overflow: hidden;text-align: left;background-color: #f0f8ff;}#sk-container-id-3 div.sk-toggleable__content pre {margin: 0.2em;color: black;border-radius: 0.25em;background-color: #f0f8ff;}#sk-container-id-3 input.sk-toggleable__control:checked~div.sk-toggleable__content {max-height: 200px;max-width: 100%;overflow: auto;}#sk-container-id-3 input.sk-toggleable__control:checked~label.sk-toggleable__label-arrow:before {content: \"▾\";}#sk-container-id-3 div.sk-estimator input.sk-toggleable__control:checked~label.sk-toggleable__label {background-color: #d4ebff;}#sk-container-id-3 div.sk-label input.sk-toggleable__control:checked~label.sk-toggleable__label {background-color: #d4ebff;}#sk-container-id-3 input.sk-hidden--visually {border: 0;clip: rect(1px 1px 1px 1px);clip: rect(1px, 1px, 1px, 1px);height: 1px;margin: -1px;overflow: hidden;padding: 0;position: absolute;width: 1px;}#sk-container-id-3 div.sk-estimator {font-family: monospace;background-color: #f0f8ff;border: 1px dotted black;border-radius: 0.25em;box-sizing: border-box;margin-bottom: 0.5em;}#sk-container-id-3 div.sk-estimator:hover {background-color: #d4ebff;}#sk-container-id-3 div.sk-parallel-item::after {content: \"\";width: 100%;border-bottom: 1px solid gray;flex-grow: 1;}#sk-container-id-3 div.sk-label:hover label.sk-toggleable__label {background-color: #d4ebff;}#sk-container-id-3 div.sk-serial::before {content: \"\";position: absolute;border-left: 1px solid gray;box-sizing: border-box;top: 0;bottom: 0;left: 50%;z-index: 0;}#sk-container-id-3 div.sk-serial {display: flex;flex-direction: column;align-items: center;background-color: white;padding-right: 0.2em;padding-left: 0.2em;position: relative;}#sk-container-id-3 div.sk-item {position: relative;z-index: 1;}#sk-container-id-3 div.sk-parallel {display: flex;align-items: stretch;justify-content: center;background-color: white;position: relative;}#sk-container-id-3 div.sk-item::before, #sk-container-id-3 div.sk-parallel-item::before {content: \"\";position: absolute;border-left: 1px solid gray;box-sizing: border-box;top: 0;bottom: 0;left: 50%;z-index: -1;}#sk-container-id-3 div.sk-parallel-item {display: flex;flex-direction: column;z-index: 1;position: relative;background-color: white;}#sk-container-id-3 div.sk-parallel-item:first-child::after {align-self: flex-end;width: 50%;}#sk-container-id-3 div.sk-parallel-item:last-child::after {align-self: flex-start;width: 50%;}#sk-container-id-3 div.sk-parallel-item:only-child::after {width: 0;}#sk-container-id-3 div.sk-dashed-wrapped {border: 1px dashed gray;margin: 0 0.4em 0.5em 0.4em;box-sizing: border-box;padding-bottom: 0.4em;background-color: white;}#sk-container-id-3 div.sk-label label {font-family: monospace;font-weight: bold;display: inline-block;line-height: 1.2em;}#sk-container-id-3 div.sk-label-container {text-align: center;}#sk-container-id-3 div.sk-container {/* jupyter's `normalize.less` sets `[hidden] { display: none; }` but bootstrap.min.css set `[hidden] { display: none !important; }` so we also need the `!important` here to be able to override the default hidden behavior on the sphinx rendered scikit-learn.org. See: https://github.com/scikit-learn/scikit-learn/issues/21755 */display: inline-block !important;position: relative;}#sk-container-id-3 div.sk-text-repr-fallback {display: none;}</style><div id=\"sk-container-id-3\" class=\"sk-top-container\"><div class=\"sk-text-repr-fallback\"><pre>OneHotEncoder()</pre><b>In a Jupyter environment, please rerun this cell to show the HTML representation or trust the notebook. <br />On GitHub, the HTML representation is unable to render, please try loading this page with nbviewer.org.</b></div><div class=\"sk-container\" hidden><div class=\"sk-item\"><div class=\"sk-estimator sk-toggleable\"><input class=\"sk-toggleable__control sk-hidden--visually\" id=\"sk-estimator-id-9\" type=\"checkbox\" checked><label for=\"sk-estimator-id-9\" class=\"sk-toggleable__label sk-toggleable__label-arrow\">OneHotEncoder</label><div class=\"sk-toggleable__content\"><pre>OneHotEncoder()</pre></div></div></div></div></div>"
            ],
            "text/plain": [
              "OneHotEncoder()"
            ]
          },
          "execution_count": 39,
          "metadata": {},
          "output_type": "execute_result"
        }
      ],
      "source": [
        "ohe = OneHotEncoder()\n",
        "ohe.fit(X[[\"bike_name\",\"brand\",\"owner\"]])"
      ]
    },
    {
      "cell_type": "code",
      "execution_count": 40,
      "metadata": {
        "id": "OKbyG0sgk8lN"
      },
      "outputs": [],
      "source": [
        "column_trans = make_column_transformer((OneHotEncoder(categories=ohe.categories_),['bike_name','brand','owner']),remainder=\"passthrough\")"
      ]
    },
    {
      "cell_type": "code",
      "execution_count": 41,
      "metadata": {
        "id": "D8oAAf5Umepr"
      },
      "outputs": [],
      "source": [
        "lr = LinearRegression()"
      ]
    },
    {
      "cell_type": "code",
      "execution_count": 42,
      "metadata": {
        "id": "EimI91FTmolJ"
      },
      "outputs": [],
      "source": [
        "pipe=make_pipeline(column_trans,lr)"
      ]
    },
    {
      "cell_type": "code",
      "execution_count": 15,
      "metadata": {
        "colab": {
          "base_uri": "https://localhost:8080/",
          "height": 189
        },
        "id": "AU76cyw3oiTD",
        "outputId": "ff915cfe-0e84-4b6f-e70e-b6b7103ab4bb"
      },
      "outputs": [
        {
          "data": {
            "text/html": [
              "<style>#sk-container-id-2 {color: black;background-color: white;}#sk-container-id-2 pre{padding: 0;}#sk-container-id-2 div.sk-toggleable {background-color: white;}#sk-container-id-2 label.sk-toggleable__label {cursor: pointer;display: block;width: 100%;margin-bottom: 0;padding: 0.3em;box-sizing: border-box;text-align: center;}#sk-container-id-2 label.sk-toggleable__label-arrow:before {content: \"▸\";float: left;margin-right: 0.25em;color: #696969;}#sk-container-id-2 label.sk-toggleable__label-arrow:hover:before {color: black;}#sk-container-id-2 div.sk-estimator:hover label.sk-toggleable__label-arrow:before {color: black;}#sk-container-id-2 div.sk-toggleable__content {max-height: 0;max-width: 0;overflow: hidden;text-align: left;background-color: #f0f8ff;}#sk-container-id-2 div.sk-toggleable__content pre {margin: 0.2em;color: black;border-radius: 0.25em;background-color: #f0f8ff;}#sk-container-id-2 input.sk-toggleable__control:checked~div.sk-toggleable__content {max-height: 200px;max-width: 100%;overflow: auto;}#sk-container-id-2 input.sk-toggleable__control:checked~label.sk-toggleable__label-arrow:before {content: \"▾\";}#sk-container-id-2 div.sk-estimator input.sk-toggleable__control:checked~label.sk-toggleable__label {background-color: #d4ebff;}#sk-container-id-2 div.sk-label input.sk-toggleable__control:checked~label.sk-toggleable__label {background-color: #d4ebff;}#sk-container-id-2 input.sk-hidden--visually {border: 0;clip: rect(1px 1px 1px 1px);clip: rect(1px, 1px, 1px, 1px);height: 1px;margin: -1px;overflow: hidden;padding: 0;position: absolute;width: 1px;}#sk-container-id-2 div.sk-estimator {font-family: monospace;background-color: #f0f8ff;border: 1px dotted black;border-radius: 0.25em;box-sizing: border-box;margin-bottom: 0.5em;}#sk-container-id-2 div.sk-estimator:hover {background-color: #d4ebff;}#sk-container-id-2 div.sk-parallel-item::after {content: \"\";width: 100%;border-bottom: 1px solid gray;flex-grow: 1;}#sk-container-id-2 div.sk-label:hover label.sk-toggleable__label {background-color: #d4ebff;}#sk-container-id-2 div.sk-serial::before {content: \"\";position: absolute;border-left: 1px solid gray;box-sizing: border-box;top: 0;bottom: 0;left: 50%;z-index: 0;}#sk-container-id-2 div.sk-serial {display: flex;flex-direction: column;align-items: center;background-color: white;padding-right: 0.2em;padding-left: 0.2em;position: relative;}#sk-container-id-2 div.sk-item {position: relative;z-index: 1;}#sk-container-id-2 div.sk-parallel {display: flex;align-items: stretch;justify-content: center;background-color: white;position: relative;}#sk-container-id-2 div.sk-item::before, #sk-container-id-2 div.sk-parallel-item::before {content: \"\";position: absolute;border-left: 1px solid gray;box-sizing: border-box;top: 0;bottom: 0;left: 50%;z-index: -1;}#sk-container-id-2 div.sk-parallel-item {display: flex;flex-direction: column;z-index: 1;position: relative;background-color: white;}#sk-container-id-2 div.sk-parallel-item:first-child::after {align-self: flex-end;width: 50%;}#sk-container-id-2 div.sk-parallel-item:last-child::after {align-self: flex-start;width: 50%;}#sk-container-id-2 div.sk-parallel-item:only-child::after {width: 0;}#sk-container-id-2 div.sk-dashed-wrapped {border: 1px dashed gray;margin: 0 0.4em 0.5em 0.4em;box-sizing: border-box;padding-bottom: 0.4em;background-color: white;}#sk-container-id-2 div.sk-label label {font-family: monospace;font-weight: bold;display: inline-block;line-height: 1.2em;}#sk-container-id-2 div.sk-label-container {text-align: center;}#sk-container-id-2 div.sk-container {/* jupyter's `normalize.less` sets `[hidden] { display: none; }` but bootstrap.min.css set `[hidden] { display: none !important; }` so we also need the `!important` here to be able to override the default hidden behavior on the sphinx rendered scikit-learn.org. See: https://github.com/scikit-learn/scikit-learn/issues/21755 */display: inline-block !important;position: relative;}#sk-container-id-2 div.sk-text-repr-fallback {display: none;}</style><div id=\"sk-container-id-2\" class=\"sk-top-container\"><div class=\"sk-text-repr-fallback\"><pre>Pipeline(steps=[(&#x27;columntransformer&#x27;,\n",
              "                 ColumnTransformer(remainder=&#x27;passthrough&#x27;,\n",
              "                                   transformers=[(&#x27;onehotencoder&#x27;,\n",
              "                                                  OneHotEncoder(categories=[array([&#x27;BMW F750 GS 850cc&#x27;, &#x27;BMW G 310 GS&#x27;, &#x27;BMW G 310 R&#x27;,\n",
              "       &#x27;BMW S 1000 RR Pro&#x27;, &#x27;BMW S 1000 XR Pro&#x27;, &#x27;Bajaj  Pulsar 180cc&#x27;,\n",
              "       &#x27;Bajaj Avenger 150cc&#x27;, &#x27;Bajaj Avenger 180cc&#x27;,\n",
              "       &#x27;Bajaj Avenger 200cc&#x27;, &#x27;Bajaj Avenger 220cc&#x27;,\n",
              "       &#x27;Bajaj Avenger Cruise 220&#x27;, &#x27;Bajaj Avenge...\n",
              "                                                                            array([&#x27;BMW&#x27;, &#x27;Bajaj&#x27;, &#x27;Benelli&#x27;, &#x27;Ducati&#x27;, &#x27;Harley-Davidson&#x27;, &#x27;Hero&#x27;,\n",
              "       &#x27;Honda&#x27;, &#x27;Hyosung&#x27;, &#x27;Ideal&#x27;, &#x27;Indian&#x27;, &#x27;Jawa&#x27;, &#x27;KTM&#x27;, &#x27;Kawasaki&#x27;,\n",
              "       &#x27;LML&#x27;, &#x27;MV&#x27;, &#x27;Mahindra&#x27;, &#x27;Rajdoot&#x27;, &#x27;Royal Enfield&#x27;, &#x27;Suzuki&#x27;,\n",
              "       &#x27;TVS&#x27;, &#x27;Triumph&#x27;, &#x27;Yamaha&#x27;, &#x27;Yezdi&#x27;], dtype=object),\n",
              "                                                                            array([&#x27;First Owner&#x27;, &#x27;Fourth Owner Or More&#x27;, &#x27;Second Owner&#x27;,\n",
              "       &#x27;Third Owner&#x27;], dtype=object)]),\n",
              "                                                  [&#x27;bike_name&#x27;, &#x27;brand&#x27;,\n",
              "                                                   &#x27;owner&#x27;])])),\n",
              "                (&#x27;linearregression&#x27;, LinearRegression())])</pre><b>In a Jupyter environment, please rerun this cell to show the HTML representation or trust the notebook. <br />On GitHub, the HTML representation is unable to render, please try loading this page with nbviewer.org.</b></div><div class=\"sk-container\" hidden><div class=\"sk-item sk-dashed-wrapped\"><div class=\"sk-label-container\"><div class=\"sk-label sk-toggleable\"><input class=\"sk-toggleable__control sk-hidden--visually\" id=\"sk-estimator-id-2\" type=\"checkbox\" ><label for=\"sk-estimator-id-2\" class=\"sk-toggleable__label sk-toggleable__label-arrow\">Pipeline</label><div class=\"sk-toggleable__content\"><pre>Pipeline(steps=[(&#x27;columntransformer&#x27;,\n",
              "                 ColumnTransformer(remainder=&#x27;passthrough&#x27;,\n",
              "                                   transformers=[(&#x27;onehotencoder&#x27;,\n",
              "                                                  OneHotEncoder(categories=[array([&#x27;BMW F750 GS 850cc&#x27;, &#x27;BMW G 310 GS&#x27;, &#x27;BMW G 310 R&#x27;,\n",
              "       &#x27;BMW S 1000 RR Pro&#x27;, &#x27;BMW S 1000 XR Pro&#x27;, &#x27;Bajaj  Pulsar 180cc&#x27;,\n",
              "       &#x27;Bajaj Avenger 150cc&#x27;, &#x27;Bajaj Avenger 180cc&#x27;,\n",
              "       &#x27;Bajaj Avenger 200cc&#x27;, &#x27;Bajaj Avenger 220cc&#x27;,\n",
              "       &#x27;Bajaj Avenger Cruise 220&#x27;, &#x27;Bajaj Avenge...\n",
              "                                                                            array([&#x27;BMW&#x27;, &#x27;Bajaj&#x27;, &#x27;Benelli&#x27;, &#x27;Ducati&#x27;, &#x27;Harley-Davidson&#x27;, &#x27;Hero&#x27;,\n",
              "       &#x27;Honda&#x27;, &#x27;Hyosung&#x27;, &#x27;Ideal&#x27;, &#x27;Indian&#x27;, &#x27;Jawa&#x27;, &#x27;KTM&#x27;, &#x27;Kawasaki&#x27;,\n",
              "       &#x27;LML&#x27;, &#x27;MV&#x27;, &#x27;Mahindra&#x27;, &#x27;Rajdoot&#x27;, &#x27;Royal Enfield&#x27;, &#x27;Suzuki&#x27;,\n",
              "       &#x27;TVS&#x27;, &#x27;Triumph&#x27;, &#x27;Yamaha&#x27;, &#x27;Yezdi&#x27;], dtype=object),\n",
              "                                                                            array([&#x27;First Owner&#x27;, &#x27;Fourth Owner Or More&#x27;, &#x27;Second Owner&#x27;,\n",
              "       &#x27;Third Owner&#x27;], dtype=object)]),\n",
              "                                                  [&#x27;bike_name&#x27;, &#x27;brand&#x27;,\n",
              "                                                   &#x27;owner&#x27;])])),\n",
              "                (&#x27;linearregression&#x27;, LinearRegression())])</pre></div></div></div><div class=\"sk-serial\"><div class=\"sk-item sk-dashed-wrapped\"><div class=\"sk-label-container\"><div class=\"sk-label sk-toggleable\"><input class=\"sk-toggleable__control sk-hidden--visually\" id=\"sk-estimator-id-3\" type=\"checkbox\" ><label for=\"sk-estimator-id-3\" class=\"sk-toggleable__label sk-toggleable__label-arrow\">columntransformer: ColumnTransformer</label><div class=\"sk-toggleable__content\"><pre>ColumnTransformer(remainder=&#x27;passthrough&#x27;,\n",
              "                  transformers=[(&#x27;onehotencoder&#x27;,\n",
              "                                 OneHotEncoder(categories=[array([&#x27;BMW F750 GS 850cc&#x27;, &#x27;BMW G 310 GS&#x27;, &#x27;BMW G 310 R&#x27;,\n",
              "       &#x27;BMW S 1000 RR Pro&#x27;, &#x27;BMW S 1000 XR Pro&#x27;, &#x27;Bajaj  Pulsar 180cc&#x27;,\n",
              "       &#x27;Bajaj Avenger 150cc&#x27;, &#x27;Bajaj Avenger 180cc&#x27;,\n",
              "       &#x27;Bajaj Avenger 200cc&#x27;, &#x27;Bajaj Avenger 220cc&#x27;,\n",
              "       &#x27;Bajaj Avenger Cruise 220&#x27;, &#x27;Bajaj Avenger Cruise 220 ABS&#x27;,\n",
              "       &#x27;Bajaj Avenger Street 150...\n",
              "       &#x27;Yamaha YZF-R3 320cc ABS&#x27;, &#x27;Yezdi Classic 250cc&#x27;], dtype=object),\n",
              "                                                           array([&#x27;BMW&#x27;, &#x27;Bajaj&#x27;, &#x27;Benelli&#x27;, &#x27;Ducati&#x27;, &#x27;Harley-Davidson&#x27;, &#x27;Hero&#x27;,\n",
              "       &#x27;Honda&#x27;, &#x27;Hyosung&#x27;, &#x27;Ideal&#x27;, &#x27;Indian&#x27;, &#x27;Jawa&#x27;, &#x27;KTM&#x27;, &#x27;Kawasaki&#x27;,\n",
              "       &#x27;LML&#x27;, &#x27;MV&#x27;, &#x27;Mahindra&#x27;, &#x27;Rajdoot&#x27;, &#x27;Royal Enfield&#x27;, &#x27;Suzuki&#x27;,\n",
              "       &#x27;TVS&#x27;, &#x27;Triumph&#x27;, &#x27;Yamaha&#x27;, &#x27;Yezdi&#x27;], dtype=object),\n",
              "                                                           array([&#x27;First Owner&#x27;, &#x27;Fourth Owner Or More&#x27;, &#x27;Second Owner&#x27;,\n",
              "       &#x27;Third Owner&#x27;], dtype=object)]),\n",
              "                                 [&#x27;bike_name&#x27;, &#x27;brand&#x27;, &#x27;owner&#x27;])])</pre></div></div></div><div class=\"sk-parallel\"><div class=\"sk-parallel-item\"><div class=\"sk-item\"><div class=\"sk-label-container\"><div class=\"sk-label sk-toggleable\"><input class=\"sk-toggleable__control sk-hidden--visually\" id=\"sk-estimator-id-4\" type=\"checkbox\" ><label for=\"sk-estimator-id-4\" class=\"sk-toggleable__label sk-toggleable__label-arrow\">onehotencoder</label><div class=\"sk-toggleable__content\"><pre>[&#x27;bike_name&#x27;, &#x27;brand&#x27;, &#x27;owner&#x27;]</pre></div></div></div><div class=\"sk-serial\"><div class=\"sk-item\"><div class=\"sk-estimator sk-toggleable\"><input class=\"sk-toggleable__control sk-hidden--visually\" id=\"sk-estimator-id-5\" type=\"checkbox\" ><label for=\"sk-estimator-id-5\" class=\"sk-toggleable__label sk-toggleable__label-arrow\">OneHotEncoder</label><div class=\"sk-toggleable__content\"><pre>OneHotEncoder(categories=[array([&#x27;BMW F750 GS 850cc&#x27;, &#x27;BMW G 310 GS&#x27;, &#x27;BMW G 310 R&#x27;,\n",
              "       &#x27;BMW S 1000 RR Pro&#x27;, &#x27;BMW S 1000 XR Pro&#x27;, &#x27;Bajaj  Pulsar 180cc&#x27;,\n",
              "       &#x27;Bajaj Avenger 150cc&#x27;, &#x27;Bajaj Avenger 180cc&#x27;,\n",
              "       &#x27;Bajaj Avenger 200cc&#x27;, &#x27;Bajaj Avenger 220cc&#x27;,\n",
              "       &#x27;Bajaj Avenger Cruise 220&#x27;, &#x27;Bajaj Avenger Cruise 220 ABS&#x27;,\n",
              "       &#x27;Bajaj Avenger Street 150&#x27;, &#x27;Bajaj Avenger Street 160 ABS&#x27;,\n",
              "       &#x27;Bajaj Avenger Street 180&#x27;, &#x27;Bajaj Avenger Street 2...\n",
              "       &#x27;Yamaha YZF-R3 320cc ABS&#x27;, &#x27;Yezdi Classic 250cc&#x27;], dtype=object),\n",
              "                          array([&#x27;BMW&#x27;, &#x27;Bajaj&#x27;, &#x27;Benelli&#x27;, &#x27;Ducati&#x27;, &#x27;Harley-Davidson&#x27;, &#x27;Hero&#x27;,\n",
              "       &#x27;Honda&#x27;, &#x27;Hyosung&#x27;, &#x27;Ideal&#x27;, &#x27;Indian&#x27;, &#x27;Jawa&#x27;, &#x27;KTM&#x27;, &#x27;Kawasaki&#x27;,\n",
              "       &#x27;LML&#x27;, &#x27;MV&#x27;, &#x27;Mahindra&#x27;, &#x27;Rajdoot&#x27;, &#x27;Royal Enfield&#x27;, &#x27;Suzuki&#x27;,\n",
              "       &#x27;TVS&#x27;, &#x27;Triumph&#x27;, &#x27;Yamaha&#x27;, &#x27;Yezdi&#x27;], dtype=object),\n",
              "                          array([&#x27;First Owner&#x27;, &#x27;Fourth Owner Or More&#x27;, &#x27;Second Owner&#x27;,\n",
              "       &#x27;Third Owner&#x27;], dtype=object)])</pre></div></div></div></div></div></div><div class=\"sk-parallel-item\"><div class=\"sk-item\"><div class=\"sk-label-container\"><div class=\"sk-label sk-toggleable\"><input class=\"sk-toggleable__control sk-hidden--visually\" id=\"sk-estimator-id-6\" type=\"checkbox\" ><label for=\"sk-estimator-id-6\" class=\"sk-toggleable__label sk-toggleable__label-arrow\">remainder</label><div class=\"sk-toggleable__content\"><pre>[&#x27;kms_driven&#x27;, &#x27;age&#x27;, &#x27;power&#x27;]</pre></div></div></div><div class=\"sk-serial\"><div class=\"sk-item\"><div class=\"sk-estimator sk-toggleable\"><input class=\"sk-toggleable__control sk-hidden--visually\" id=\"sk-estimator-id-7\" type=\"checkbox\" ><label for=\"sk-estimator-id-7\" class=\"sk-toggleable__label sk-toggleable__label-arrow\">passthrough</label><div class=\"sk-toggleable__content\"><pre>passthrough</pre></div></div></div></div></div></div></div></div><div class=\"sk-item\"><div class=\"sk-estimator sk-toggleable\"><input class=\"sk-toggleable__control sk-hidden--visually\" id=\"sk-estimator-id-8\" type=\"checkbox\" ><label for=\"sk-estimator-id-8\" class=\"sk-toggleable__label sk-toggleable__label-arrow\">LinearRegression</label><div class=\"sk-toggleable__content\"><pre>LinearRegression()</pre></div></div></div></div></div></div></div>"
            ],
            "text/plain": [
              "Pipeline(steps=[('columntransformer',\n",
              "                 ColumnTransformer(remainder='passthrough',\n",
              "                                   transformers=[('onehotencoder',\n",
              "                                                  OneHotEncoder(categories=[array(['BMW F750 GS 850cc', 'BMW G 310 GS', 'BMW G 310 R',\n",
              "       'BMW S 1000 RR Pro', 'BMW S 1000 XR Pro', 'Bajaj  Pulsar 180cc',\n",
              "       'Bajaj Avenger 150cc', 'Bajaj Avenger 180cc',\n",
              "       'Bajaj Avenger 200cc', 'Bajaj Avenger 220cc',\n",
              "       'Bajaj Avenger Cruise 220', 'Bajaj Avenge...\n",
              "                                                                            array(['BMW', 'Bajaj', 'Benelli', 'Ducati', 'Harley-Davidson', 'Hero',\n",
              "       'Honda', 'Hyosung', 'Ideal', 'Indian', 'Jawa', 'KTM', 'Kawasaki',\n",
              "       'LML', 'MV', 'Mahindra', 'Rajdoot', 'Royal Enfield', 'Suzuki',\n",
              "       'TVS', 'Triumph', 'Yamaha', 'Yezdi'], dtype=object),\n",
              "                                                                            array(['First Owner', 'Fourth Owner Or More', 'Second Owner',\n",
              "       'Third Owner'], dtype=object)]),\n",
              "                                                  ['bike_name', 'brand',\n",
              "                                                   'owner'])])),\n",
              "                ('linearregression', LinearRegression())])"
            ]
          },
          "execution_count": 15,
          "metadata": {},
          "output_type": "execute_result"
        }
      ],
      "source": [
        "pipe.fit(X_train,Y_train)"
      ]
    },
    {
      "cell_type": "code",
      "execution_count": 16,
      "metadata": {
        "id": "E9jYHcIVorQH"
      },
      "outputs": [],
      "source": [
        "Y_pred= pipe.predict(X_test)"
      ]
    },
    {
      "cell_type": "code",
      "execution_count": 17,
      "metadata": {
        "colab": {
          "base_uri": "https://localhost:8080/"
        },
        "id": "S4ajdLygpBmV",
        "outputId": "0c79cd1f-486f-4add-c196-0659d0e5d7c1"
      },
      "outputs": [
        {
          "data": {
            "text/plain": [
              "array([82681.1659658 , 10743.61306767, 28817.02318387, ...,\n",
              "       20707.28874891, 65342.54677011, 20144.72533003])"
            ]
          },
          "execution_count": 17,
          "metadata": {},
          "output_type": "execute_result"
        }
      ],
      "source": [
        "Y_pred"
      ]
    },
    {
      "cell_type": "code",
      "execution_count": 18,
      "metadata": {
        "colab": {
          "base_uri": "https://localhost:8080/"
        },
        "id": "U1M8IbLDpDCI",
        "outputId": "173ae0a0-e286-425d-eb04-bfa370cfa4c8"
      },
      "outputs": [
        {
          "data": {
            "text/plain": [
              "0.9290975842628173"
            ]
          },
          "execution_count": 18,
          "metadata": {},
          "output_type": "execute_result"
        }
      ],
      "source": [
        "r2_score(Y_test,Y_pred)"
      ]
    },
    {
      "cell_type": "code",
      "execution_count": 22,
      "metadata": {
        "id": "gSBc94YjpUhW"
      },
      "outputs": [],
      "source": [
        "scores=[]\n",
        "for i in range(5000):\n",
        "  X_train,X_text,Y_train,Y_test= train_test_split(X,Y, test_size=0.25,random_state=i)\n",
        "  lr = LinearRegression()\n",
        "  pipe=make_pipeline(column_trans,lr)\n",
        "  pipe.fit(X_train,Y_train)\n",
        "  Y_pred= pipe.predict(X_text)\n",
        "  scores.append(r2_score(Y_test,Y_pred))"
      ]
    },
    {
      "cell_type": "code",
      "execution_count": 23,
      "metadata": {
        "colab": {
          "base_uri": "https://localhost:8080/"
        },
        "id": "400g0lJ6rii-",
        "outputId": "9d70addb-d9a2-4944-b525-6d513b8587fd"
      },
      "outputs": [
        {
          "name": "stdout",
          "output_type": "stream",
          "text": [
            "[0.9290858511383642, 0.9001814115536052, 0.9240692926234715, 0.9329932896424662, 0.8992829673962714, 0.887431868129737, 0.9062445990591259, 0.883923460136547, 0.8914358468340489, 0.9069736678227666, 0.9122521473278477, 0.9418870010437101, 0.9033707060679529, 0.9149370566338819, 0.8853194517073808, 0.9086036743813533, 0.9100557202516073, 0.9081776111520634, 0.8948510010088091, 0.9145982369863455, 0.9169764107625558, 0.8996768495837972, 0.9094771093168926, 0.9121655040368357, 0.9193853519896642, 0.9154474128292791, 0.9076164310902015, 0.9323253052860018, 0.9041447324820301, 0.9291902339916008, 0.9050351330835964, 0.8905083703059298, 0.9254230808442739, 0.9054134470821755, 0.924364810984704, 0.9407909372761352, 0.919622088542708, 0.9305494067083824, 0.8766725925416005, 0.9090924426425058, 0.9122154884647375, 0.9309079942991051, 0.8868707723165118, 0.9164501327291192, 0.9139396051023703, 0.9113438527073037, 0.9139431571032247, 0.9167018503374945, 0.9037831925393189, 0.9093337117591764, 0.929428972840801, 0.8907584586125433, 0.9022052038960221, 0.8904353003811463, 0.9034598087541219, 0.9208588724930616, 0.9315947193722507, 0.8806155307445956, 0.9087688121933108, 0.9142474738808029, 0.925282519288573, 0.929224008960861, 0.9048570516237522, 0.8877926443963697, 0.9054511322424383, 0.893676985154605, 0.933285144485607, 0.9360848140939085, 0.9182743435430185, 0.9308161429378462, 0.9180500454468637, 0.9062205816764345, 0.9096892021100615, 0.9149920444515519, 0.9351101630370089, 0.9309294557095946, 0.9302542128909089, 0.9303865493521687, 0.9105077489330836, 0.9267581931490726, 0.9098357415433945, 0.9060137504494246, 0.9047129311734113, 0.9242636742087544, 0.9040013807092367, 0.9073824587649556, 0.9243977169452682, 0.9091341769800768, 0.9179557423972238, 0.9304418645932294, 0.9215940005286984, 0.904346392989997, 0.9211038655393982, 0.9142128966526251, 0.8946593261318369, 0.9073158491937463, 0.9077947008179531, 0.9115191289471724, 0.9157466749655504, 0.906071364103886, 0.9041738298582668, 0.8889418615362105, 0.8860041972141456, 0.9020051996012304, 0.9022202091465334, 0.9063463729788175, 0.8967720751810178, 0.9082828590798255, 0.908235854477781, 0.9042771791708035, 0.9033913652525746, 0.8793108325370402, 0.9145681249659917, 0.8869012757265302, 0.9231369821570878, 0.8969277706197225, 0.912743577063576, 0.9176631554867747, 0.8912098500632673, 0.8860853503225175, 0.9035481665297831, 0.9427865948780951, 0.9331435271140007, 0.9080030478300427, 0.9102471192301882, 0.9281653171548608, 0.9220820721076166, 0.9202094427636534, 0.9079707164884048, 0.9273380540556242, 0.926241616926021, 0.9016349689200331, 0.9236324740020254, 0.9193715865115071, 0.9284377281288427, 0.8958997996642531, 0.9142329723062559, 0.9196747031463581, 0.9233430468355787, 0.9172595062077068, 0.8982199855862609, 0.9088698645420411, 0.9050495775386499, 0.9129924568581683, 0.9339579957188402, 0.9024846812026147, 0.9128867253951438, 0.9218432594055107, 0.8992968274279363, 0.9197502681967317, 0.9151455252895887, 0.921605554411544, 0.9252699958715798, 0.9002602544494065, 0.9212006302846902, 0.8999344834341266, 0.9038982389248853, 0.9135804919109615, 0.9106179133222244, 0.9154534846303185, 0.9131384132286678, 0.8923141752463601, 0.8842632741970298, 0.9087859741609811, 0.9175409407819588, 0.9215488771794765, 0.9206818022931251, 0.8997517385200587, 0.9137410000648016, 0.8978574266364513, 0.9086801409443244, 0.9079148984137918, 0.8917107707029392, 0.9245192542365437, 0.9001858805941706, 0.9247098297967651, 0.9016976851391715, 0.9123728195376906, 0.9140596531548839, 0.9199992503389348, 0.8976027894875109, 0.9050162173353686, 0.928438763643462, 0.8970350625850838, 0.8827015891487502, 0.895062030083384, 0.9081401832626838, 0.9135294015313288, 0.9180320417540137, 0.9160717341033958, 0.916512656911182, 0.8938624314234741, 0.9135834698126069, 0.903955543727665, 0.9033731550111461, 0.9073817794496765, 0.9152407491373362, 0.9226396563826069, 0.895945244055732, 0.8896455542460606, 0.8978517224848752, 0.9001750765668437, 0.8932035977261129, 0.9093450514087724, 0.8992277591932453, 0.9174489056128232, 0.9362669507806732, 0.9057008422249753, 0.9108581646884628, 0.9268127791480072, 0.9036919233484101, 0.9270949113157362, 0.8998436495543957, 0.9131888610599737, 0.9090385748188209, 0.9304868370920917, 0.8851242034108193, 0.9087378526815915, 0.9006467868306687, 0.8891425235495493, 0.8988789893090119, 0.9213897434433334, 0.9131086815829033, 0.9238112157161386, 0.9254760018210653, 0.9188930885295116, 0.9325017740762317, 0.9222840059508044, 0.9250039486723456, 0.915322164468823, 0.9001770554857571, 0.9025232435799542, 0.9172744783820594, 0.9052898928513966, 0.9210694612937806, 0.9282677802892336, 0.8976498727711787, 0.8987178644241581, 0.8900823494853706, 0.9191939778802511, 0.931429467042802, 0.9241876695428778, 0.905861538762628, 0.913122736618348, 0.9179311849296343, 0.926592945362992, 0.9159436776969039, 0.8931612654281248, 0.894664844510009, 0.9323335840939608, 0.9031501654983383, 0.913250325883745, 0.9195105637283726, 0.884981459713402, 0.9220279664432411, 0.9310809085853328, 0.9212905777456983, 0.9176972421032745, 0.9204811348823333, 0.9171860395670264, 0.917975219427808, 0.9110629384373942, 0.8968183964684938, 0.9187763754671775, 0.9219558485919441, 0.8829725043554499, 0.919472597772141, 0.9178788105890402, 0.9361876631862075, 0.9230900781867777, 0.9253874155218547, 0.8959272964036029, 0.9129235285778339, 0.9254073273860076, 0.9266663036678945, 0.900912625500295, 0.8971550670865793, 0.9103261967855493, 0.9024577701626237, 0.8996675912126317, 0.9179190205572423, 0.9199378922249724, 0.8956192267543834, 0.913730050194623, 0.9289871388628357, 0.8893050410558856, 0.8973352201688274, 0.9192787496630651, 0.923912099794813, 0.91899743362537, 0.917198453373134, 0.9004436069340601, 0.9028161943242693, 0.8973372168758641, 0.890823234788795, 0.9162533186825067, 0.9354951875304949, 0.9233838477912002, 0.9121252388964822, 0.8888464269017927, 0.8996346566315295, 0.8751231474423541, 0.905079689870904, 0.8844552600720138, 0.9091084416327445, 0.9182818394850547, 0.9045915161196826, 0.9265988392651521, 0.909549564036529, 0.9302886532767246, 0.8986140313629367, 0.9109739954300292, 0.9311666337743107, 0.9019440643854331, 0.8917906794373556, 0.8926655417092497, 0.9100092027245279, 0.9016030518731701, 0.9065790823755049, 0.9085338279490424, 0.9049395540914746, 0.9197100301358397, 0.9377412595614735, 0.9149915058843889, 0.9342291508071996, 0.9103604914032176, 0.9035332956091653, 0.912573270730223, 0.8988859167118027, 0.8967165455550433, 0.9115312749898536, 0.925565378914541, 0.9094324656915511, 0.8842249032791797, 0.9241484676065438, 0.8785846526957524, 0.911042162401089, 0.915073194278107, 0.928477645442035, 0.9149418600086583, 0.9419653735870963, 0.9091693367471422, 0.9298537454959799, 0.910521358109916, 0.9282609525593768, 0.9107815375766628, 0.8916713813566991, 0.8968404800773105, 0.9158899066067214, 0.8904570515960207, 0.9115167870077253, 0.9151767391144258, 0.9033874272804323, 0.8986750295065404, 0.9178263960402723, 0.8983122855332298, 0.9304771457286191, 0.9151300159415866, 0.8929779722394429, 0.9338672521308532, 0.9084339323869176, 0.9350194607644557, 0.9133752720321178, 0.9230336911593594, 0.9073929472356788, 0.9034336875115223, 0.9002467278033939, 0.9023960688196034, 0.9001573443289064, 0.9040039871792293, 0.9031658689722559, 0.9215894505113669, 0.9106216395716697, 0.8993211355201011, 0.9010880762428183, 0.9065429442065799, 0.8935695306359771, 0.9014564735206052, 0.9333650890082063, 0.8982501126733029, 0.9317505211739088, 0.9144923066343636, 0.9209244918065502, 0.9066765050630577, 0.8933161589958017, 0.9160344027264852, 0.9234880796289772, 0.9215530793280131, 0.9340095815937163, 0.9246637501458295, 0.8898209831033729, 0.9398109777493144, 0.9210508653645375, 0.9190740419379849, 0.9338598791621497, 0.9210146151390131, 0.912232441828577, 0.8951142697939961, 0.9122241378514582, 0.9394093821435588, 0.9010268997405884, 0.9298145733564434, 0.9189856018186385, 0.8901548761501485, 0.9106121916038807, 0.8951845218608943, 0.9204880546500979, 0.9225469115654401, 0.9379287294037838, 0.9307509153796973, 0.9371148982963444, 0.91189343952443, 0.9129589537747831, 0.9229384288420049, 0.9337436341103277, 0.9032110798799017, 0.9308588299207007, 0.8987862585569815, 0.9098258663474117, 0.9217922564600806, 0.9092029587306347, 0.9348121626889168, 0.9108464703348964, 0.9105892548542759, 0.9311751817979899, 0.9236563023030241, 0.9034965632760602, 0.9296360176565012, 0.9121342712943095, 0.9287014391602421, 0.9185317435165029, 0.8886569934134969, 0.9036300760172191, 0.9132374282750108, 0.9152863432441444, 0.8829138564820262, 0.9285963002524925, 0.910820520782356, 0.8861880669584047, 0.9172346516150853, 0.9179025588205427, 0.9261898729751097, 0.8949611003820027, 0.8893149891328236, 0.9258709975777997, 0.8976877655140849, 0.9139811965669169, 0.8943123298216997, 0.9065106243173403, 0.9207560879623923, 0.9132382592869162, 0.8974075048658305, 0.9196474788094062, 0.891422874534308, 0.9222550045564875, 0.9280368586557051, 0.9069080752576593, 0.8919716416394877, 0.926752203611566, 0.9087004714708148, 0.9252147912041997, 0.919304555851336, 0.8979237005732901, 0.9067092373016857, 0.9262138131168317, 0.920451127274867, 0.9068868693137007, 0.8993598582342183, 0.9026347203765412, 0.9225369875399058, 0.9298363222378998, 0.8917230182645892, 0.9238303871207207, 0.9127614098413718, 0.906925287699888, 0.8991129829888042, 0.9352868524292941, 0.9066022093260893, 0.8903888723880259, 0.923552064401409, 0.9123739805917114, 0.8908624734183073, 0.9222420813665231, 0.9257782775719463, 0.9215885626928866, 0.9204157913391947, 0.9114681729742606, 0.9270135663902898, 0.9227348903948821, 0.9174952240889789, 0.9054996335178234, 0.9292889307434831, 0.9054349329497601, 0.885355331470201, 0.9401606374092992, 0.9113690358275576, 0.9159905729693618, 0.8983243608008603, 0.9099629103684247, 0.9180500333578527, 0.926126542654553, 0.9304378750437908, 0.9104570461709102, 0.9154553131254533, 0.8995021662374758, 0.9389994106881324, 0.9025372055773461, 0.9132412372081845, 0.9005289528379944, 0.8886701982976891, 0.9078351450125651, 0.9246986588239066, 0.9193311123511749, 0.9288264094664485, 0.9121479323034298, 0.923044930210105, 0.9039685804144417, 0.9274545333409497, 0.8848151906555862, 0.8928124641247083, 0.9319674724664467, 0.9259709728096697, 0.9068787176520365, 0.9224737065203318, 0.9035491114623964, 0.9045598078707179, 0.9370540433747159, 0.90424839342042, 0.9175647586010297, 0.9288680213797463, 0.9189384335954393, 0.8963643498740945, 0.94611270338109, 0.9142174408292361, 0.894740215140404, 0.9218684614695607, 0.898972421507927, 0.9064971546868157, 0.9003321948504961, 0.9273823941323085, 0.8725243503494347, 0.9052296030468757, 0.911025629990712, 0.9103160378488522, 0.9304942220523604, 0.8893004958349626, 0.9282593739274506, 0.9255572192808151, 0.9059075436932693, 0.9107507629325016, 0.9091925397344766, 0.9145926178891313, 0.9214558057691019, 0.9104340566291229, 0.9315138130041769, 0.8938626029446666, 0.9237808690033122, 0.9260797243045543, 0.9306901124672309, 0.9252595426833806, 0.9094575026629352, 0.9141540374762511, 0.9307864203626725, 0.924928908055269, 0.930869242591565, 0.9071342345508505, 0.89433534470336, 0.8961950535056683, 0.9255830439089794, 0.9260146831072809, 0.9042068338459036, 0.904761712615685, 0.8750608004941972, 0.9026722277536517, 0.9194159292313829, 0.890994170019053, 0.9453455063983308, 0.9196598987239973, 0.9081630134671684, 0.9091301798089776, 0.9159334975364257, 0.9076285834159584, 0.9309726669954611, 0.8958651497704038, 0.9379247337124946, 0.8909749748270581, 0.9061090810657983, 0.9258312134470443, 0.9050344663446015, 0.9001982613864041, 0.9026487381074912, 0.9000602209908531, 0.9238879876589141, 0.9250403155581108, 0.9148370801193402, 0.9246924666822908, 0.9222758479539291, 0.905202836867223, 0.9168030518768859, 0.9176439771308674, 0.9189533577373035, 0.9190599506282453, 0.8944528272988509, 0.9244951352044659, 0.9228036144183982, 0.891027918416242, 0.9336821574251736, 0.9263159880654015, 0.9274930050034986, 0.9252873834330851, 0.9179120537232779, 0.9205458711199682, 0.9375818689520993, 0.9177633233541338, 0.9375938697438617, 0.9180827501913337, 0.8979708129296937, 0.9217428211964062, 0.9129944125224856, 0.9065467714485133, 0.8969832833374162, 0.9124490448494895, 0.9217216545905149, 0.9201094752194069, 0.9047303636312718, 0.9096477818199787, 0.9162648674188264, 0.9050708108884478, 0.929060901590419, 0.9308842892787703, 0.9211550636423068, 0.9145484136390063, 0.9037435841493662, 0.9106076633473966, 0.9299065951334063, 0.9287528703941164, 0.9138226038547697, 0.91794004882428, 0.9321679846272928, 0.9230078355925615, 0.9175134639192759, 0.9112408089545333, 0.9002463564812746, 0.9310767310881668, 0.9180911802549726, 0.9115683614999128, 0.9080802258434905, 0.9094172706783872, 0.907110333430088, 0.9040520816103776, 0.9053824235193834, 0.916315684037934, 0.9124638902935523, 0.921939177554941, 0.9402974438704015, 0.9068586613433464, 0.9067089580351407, 0.8904385280826058, 0.9209658416260701, 0.9344739287533637, 0.9170651046769863, 0.9143105185150363, 0.9091542759609461, 0.8966831682431212, 0.9098929637211821, 0.9367414996750366, 0.9249615973419199, 0.9092579563233412, 0.9003801986101062, 0.9061448803724401, 0.8906521677801288, 0.8894684965856012, 0.9390690323826817, 0.908948872500892, 0.9126083474506962, 0.9249083625359337, 0.9186135321722878, 0.9213414390763708, 0.9189387773256827, 0.9165577898703243, 0.9013947073796807, 0.9119354172564276, 0.9244439453399903, 0.9222958183058065, 0.8746920522650188, 0.908358260393181, 0.9199647046164695, 0.904269418497817, 0.9240232078411637, 0.9094589705516581, 0.9136837553763786, 0.9177409768067063, 0.9194249267613385, 0.9123485795988506, 0.8937562200870948, 0.896516040197538, 0.9231463564118668, 0.9240622092698629, 0.9415172608656832, 0.9148362600037103, 0.9184252179960641, 0.9218832219007355, 0.9038487190604361, 0.9295298360420859, 0.8862758005564493, 0.9310483256431787, 0.8906938338117605, 0.9112500923090893, 0.8953511207848257, 0.9183021505225069, 0.9320238763735151, 0.9200537998544656, 0.9151862875151315, 0.9268792751668119, 0.9115045346250623, 0.9255155587057241, 0.9140404019081463, 0.9040618169594549, 0.9151455274824191, 0.9251587138626937, 0.9189709019469814, 0.919447056147766, 0.9027990755748438, 0.9393362860286895, 0.9080975574966729, 0.9119404999626993, 0.9047685500368491, 0.917216067928679, 0.9221839469173095, 0.9218815366889714, 0.9192339355468613, 0.9250501475892744, 0.9147952722962983, 0.9332062355095028, 0.8970818516446394, 0.8863622119635759, 0.8969986022945958, 0.9289880944002559, 0.9271961799365822, 0.9061224140412336, 0.8733629426494315, 0.9152928535071821, 0.9083867502324701, 0.9274799101925848, 0.9311427216080385, 0.9175756286638744, 0.9112811053850817, 0.9217903140206414, 0.9321898811347915, 0.9204533114301908, 0.9125394358198646, 0.8984174262473574, 0.8897052568695779, 0.8903606132750529, 0.9330827792121296, 0.9185724476226546, 0.9059905038136062, 0.9128419537130708, 0.9205392973981659, 0.8946300505679221, 0.8770741405283508, 0.907880398293418, 0.9284818468706237, 0.9027245884493512, 0.9323089593485978, 0.9288625411848703, 0.9292109563101941, 0.9076234157567873, 0.9253959027780357, 0.9287601163365635, 0.9087976134133914, 0.8889614517088638, 0.9284634736162533, 0.9138996421879886, 0.918695440917758, 0.8934711100968364, 0.8858499175127751, 0.9023803082699999, 0.8955749290827325, 0.9027033712016955, 0.9446352978690357, 0.8900267225773428, 0.9117543266567417, 0.9330883565339309, 0.9408191863303644, 0.9078206954025277, 0.9151054270647813, 0.8923329076940105, 0.9200937339760421, 0.9259616733590572, 0.9374322531421421, 0.9295491715916222, 0.9277370583163539, 0.9150136765741171, 0.9147632587131818, 0.921726844735486, 0.9044103862599217, 0.9010742512508174, 0.916296051180929, 0.9168154389783283, 0.8991673403768493, 0.9235119657999344, 0.913530655657623, 0.8988710728203166, 0.9279177282618228, 0.8970348381577478, 0.9033673258180919, 0.9160709313485951, 0.9047809024222825, 0.8909537707159864, 0.8753189490649494, 0.8806918210187168, 0.9295545878298972, 0.9209629015841785, 0.9264126844789632, 0.9088129684766806, 0.891647698212158, 0.9272819705528974, 0.8909427788798105, 0.9233041281257273, 0.930089398192467, 0.8962727377757661, 0.9234933261560476, 0.9042967142512357, 0.9031394769773164, 0.9172326574818694, 0.8934732115516313, 0.9092446245310931, 0.9193460007136777, 0.9129012758855695, 0.9316529973903699, 0.9227975215718134, 0.8877579320423465, 0.9296047625252511, 0.8968039091978338, 0.89131278736545, 0.8987847818660943, 0.9252036108262646, 0.8928637005481179, 0.8868147143956486, 0.9353420588217065, 0.9295348174648104, 0.905296129317583, 0.9015664355167694, 0.9125827652689397, 0.9232158959919953, 0.9019676127076227, 0.9145020686809953, 0.9172295177723547, 0.9231950425188084, 0.9359656033577793, 0.9111538134718679, 0.9091171986139569, 0.8976124628827074, 0.901870529748988, 0.9073092499383708, 0.9117615024796754, 0.9123286782942935, 0.8973830037378329, 0.9383224690201241, 0.8966535375675861, 0.9156784441863308, 0.9004665263400475, 0.9157686231950327, 0.9218875894122932, 0.9087236030234719, 0.9422727629737736, 0.9103030374303462, 0.9116915324680106, 0.8968588065709053, 0.8873646627326661, 0.9207553202833814, 0.9073367716058786, 0.9114982241132745, 0.9110520004330378, 0.9162534126089591, 0.9229747143271914, 0.9220791775657602, 0.9054013574549549, 0.9145059607128817, 0.9097660623512712, 0.9223475357875761, 0.9159999695994839, 0.9269924157131681, 0.9241574210329879, 0.9248508950007724, 0.9082725085997355, 0.9036478316197314, 0.900015652272494, 0.8883649212761211, 0.9154808589256881, 0.9000776647696954, 0.9087734816034783, 0.9127575714164992, 0.9105824204688953, 0.9120249097321651, 0.9227190782595494, 0.9137019425195047, 0.9027362501966734, 0.909506319432324, 0.9162157114175735, 0.9073250666424907, 0.9274864140697618, 0.9044603709954339, 0.8992450504229043, 0.9098194132533359, 0.9172624933441262, 0.9110367769002782, 0.9096200008538778, 0.9185691249811878, 0.9092912181180511, 0.9118868929632493, 0.9130754505284339, 0.9184365785567955, 0.8916495920547949, 0.9072481348312442, 0.9273830495727898, 0.9111892545610882, 0.9131014948259807, 0.922673192381479, 0.9339478105995587, 0.9247151230832842, 0.9228336709302194, 0.9069130138259914, 0.9136836683295717, 0.9056649350352528, 0.9073345319817747, 0.8984755299962843, 0.9243448819055702, 0.9265255695407599, 0.8875668086637795, 0.9171011622501921, 0.9168431182906455, 0.9026775796125411, 0.9112036148697047, 0.874866482657973, 0.9135340877197039, 0.9108517773084439, 0.9293423703340754, 0.9230500464777134, 0.9008211594769006, 0.9337079197902312, 0.8967039869243167, 0.9216301999720068, 0.9035284511143983, 0.8836742186172055, 0.9143249332864132, 0.8746037801472222, 0.9026961393666304, 0.9068275718303868, 0.9211706314769026, 0.8883230393917207, 0.9340051099434494, 0.9225220718715422, 0.91234649867414, 0.9012306207847544, 0.9170141074733835, 0.9121450975889599, 0.9321978222117806, 0.914695123454517, 0.9235866714633251, 0.9246221550545937, 0.8740277334668518, 0.9194685522726008, 0.8844727345960879, 0.9043592380700234, 0.8951096508003564, 0.907458265685604, 0.9294890932275268, 0.9238272823338058, 0.9054977035603603, 0.9018058176400795, 0.8927029830647283, 0.9307788421670213, 0.9323820733978533, 0.9116523394659807, 0.912894114545595, 0.9167070901339582, 0.9093579585564452, 0.9104875931251564, 0.9202473679904937, 0.9304051233956896, 0.9303714631889459, 0.9345836905174525, 0.9404664644269567, 0.904558331178327, 0.9232103316550436, 0.8902073423369214, 0.9105287537523606, 0.9288731072522767, 0.9248033275013353, 0.9128960485410368, 0.9173239936890764, 0.9186807040277046, 0.9190169548656889, 0.9212172460769452, 0.8977855970139206, 0.9010647930239267, 0.8955003768639214, 0.9032110615738504, 0.9205921210527065, 0.9250348063678057, 0.9093181026787458, 0.9085510341884435, 0.9169995065232843, 0.9097316957126736, 0.9139950869433101, 0.9225875647402844, 0.8886497693965613, 0.9188340396482194, 0.901163305723479, 0.9074139475262477, 0.9015668383869476, 0.8889463968123207, 0.9185018804526651, 0.9067877856570038, 0.9010259458194129, 0.9326370708232361, 0.9070884578048435, 0.9052088163076335, 0.915552980999567, 0.9121699369806484, 0.9092296488664595, 0.9246127629349767, 0.882881062725236, 0.9311689239179695, 0.9099748478448687, 0.9135966446913525, 0.9240263594478073, 0.8978613061540728, 0.9193620774161, 0.9052424872018932, 0.88949076948898, 0.9120409802330391, 0.9230374323480286, 0.9094624590092053, 0.9178417607903125, 0.9064748438906953, 0.9245900362971976, 0.9036196147763834, 0.898683422278855, 0.9312794159931181, 0.9405126669403076, 0.8972114990394915, 0.8944724682308935, 0.8994910299491934, 0.915317178987078, 0.9208461394565395, 0.8841210236848758, 0.9206965879635198, 0.8853521879430899, 0.9028293366747929, 0.9334545313219917, 0.9145446860995142, 0.9025926670279892, 0.8925717225408627, 0.887986354195929, 0.9178152128959643, 0.9217211112840472, 0.8826523100448114, 0.9138795158484297, 0.9034540771016665, 0.9195528621440527, 0.9214710609684166, 0.9189091449085871, 0.9246654209407312, 0.9189421744788466, 0.9005764788429721, 0.9355303460482107, 0.933762995754553, 0.9043625997878466, 0.9091963724582633, 0.9029550997654977, 0.9197473110193146, 0.9293093253234979, 0.9287100810437208, 0.9201421625248929, 0.9014005286999038, 0.8780853907120557, 0.9076575238948539, 0.9135101919697076, 0.8938183456651195, 0.8828866249544194, 0.9003839741210671, 0.9317864795931805, 0.9333635623929657, 0.8926299455759001, 0.9010126373830863, 0.9196247672990527, 0.9299818428572978, 0.9416817877404706, 0.8990824734696757, 0.924129692434145, 0.896948753709928, 0.8960813987489333, 0.9076715469772129, 0.9221125747588662, 0.9378030332259566, 0.9215525300986125, 0.922993051280369, 0.9117481961426629, 0.9070761341218369, 0.93238337701206, 0.9332160638009518, 0.8997994814261492, 0.9056998331273617, 0.9330577439386102, 0.9331133220027192, 0.9243090380973786, 0.9193665370069085, 0.9182206891156557, 0.9149922866164902, 0.8958325431699701, 0.9219164882398125, 0.916235176543341, 0.9153833829878949, 0.9090362268806519, 0.9017511641915014, 0.917042120034729, 0.9001484244686612, 0.916101678558583, 0.8997368556282278, 0.9222969754084355, 0.9317055454012332, 0.9250043661134059, 0.9207351938509712, 0.8959250219916444, 0.8776466775508637, 0.8992586379309706, 0.9187323573814518, 0.9235339938645208, 0.9138994111393477, 0.9045218133757909, 0.903685533867376, 0.9241896881565356, 0.9207470742401018, 0.883203980639432, 0.886051602806847, 0.883897567267291, 0.9262668076438954, 0.9099943429546025, 0.9182563619973741, 0.9189594080587212, 0.9188410338303948, 0.9261081335377281, 0.9193408413297124, 0.8849453499886529, 0.8895650950106209, 0.916876513870351, 0.8830416803328983, 0.9062561676043804, 0.9132982248584793, 0.9100653363585828, 0.9104475539644087, 0.9104010713332906, 0.914428194289235, 0.9212269643821202, 0.9289770429991273, 0.9067740224635176, 0.9147622506825543, 0.8827798886595106, 0.9262983196890626, 0.9258502022164469, 0.9154700800236091, 0.9173156307960325, 0.899870080774401, 0.9092488176718698, 0.9203464065385407, 0.9212913371101483, 0.9118501494750666, 0.8876444761163769, 0.9035499685289329, 0.9106063616084948, 0.9128275238815413, 0.9169580087169442, 0.883495147305371, 0.9227786580816422, 0.9094714836447317, 0.9208833669050259, 0.8931532219302343, 0.9071520977975697, 0.9324980602391696, 0.9155326317529761, 0.9306633325023518, 0.9271781953026559, 0.9115684958675978, 0.9164030242687605, 0.8916158756211936, 0.900311515455183, 0.9133194396666949, 0.902118268082313, 0.8841837984868766, 0.9291867431931069, 0.9062344995644661, 0.9049110112521077, 0.9135781563308213, 0.8945712653615209, 0.9141587067551628, 0.904356325545812, 0.9083957883641895, 0.9260407108887082, 0.928584296727937, 0.9337498904154881, 0.9138406056646268, 0.9065948208514092, 0.9280108560709874, 0.9216779819782266, 0.9305430658568004, 0.922458644929613, 0.9327532560568514, 0.9344476565936619, 0.9284694342472932, 0.9152378697153032, 0.9302777804040656, 0.9046545600822916, 0.9294905878812634, 0.8845582482373852, 0.9221756353083004, 0.8973032530093206, 0.8881753891388388, 0.8998521282450367, 0.9120435670774478, 0.894319692606811, 0.9258695925378317, 0.909256313315854, 0.9283276138132175, 0.8991256719525238, 0.9046200430044966, 0.900205861746882, 0.9224619045285448, 0.928122982126228, 0.8872048405669795, 0.9252681278785125, 0.8982971484154363, 0.9287616967641281, 0.907250491645239, 0.9033723312976649, 0.9044621477726998, 0.9101514424447956, 0.9173813682686728, 0.8801561602947923, 0.9011400172516666, 0.8783383894161051, 0.9174380607894013, 0.9185403856012411, 0.933046928137379, 0.9182980709928837, 0.8972797521970652, 0.9247521558288531, 0.9115075364226375, 0.9134082424222528, 0.927548648641555, 0.923772532864209, 0.9216371033527234, 0.9141474893121643, 0.9043074579730692, 0.9046299027031459, 0.9044948996573289, 0.9120476561073494, 0.9023880552769674, 0.9234676983022876, 0.9153736964864068, 0.9090627169523472, 0.9124953364014118, 0.9332788483236938, 0.9093588445222356, 0.9010396183986067, 0.9190380883954541, 0.9176031476338469, 0.908304813474174, 0.912565117106516, 0.9113823303488139, 0.9297851981114414, 0.9080827682339815, 0.9120897646189026, 0.9072302702769498, 0.9050724426852105, 0.8741557275481749, 0.9124756990071015, 0.89880242908655, 0.9202765232117519, 0.8942063238972436, 0.8901346097233669, 0.9177987493309238, 0.92506710723309, 0.9197909430093582, 0.9269886838668496, 0.9504612448928291, 0.9212762034175188, 0.9351405531735245, 0.9027646735504073, 0.9219251075983528, 0.922442684138113, 0.9208901003053637, 0.8937272121621059, 0.9219322721774262, 0.9216933158976466, 0.8996808246112145, 0.88971635197126, 0.9059185898798976, 0.913714309371219, 0.8914304901463057, 0.929154097864616, 0.9104528322952715, 0.9129584577364476, 0.9361426846965113, 0.9135873113407854, 0.9319437653367424, 0.9380121732940117, 0.9151152863952939, 0.9049035576981723, 0.8951269193935344, 0.9088904495357967, 0.8982055981422243, 0.9101392262016649, 0.8992253735804259, 0.9183308502043697, 0.9197236595700943, 0.8990512514981467, 0.9304237287871482, 0.917452718303811, 0.9163463869678868, 0.9329607649271731, 0.9368033274943988, 0.9186979732037821, 0.9079172313674211, 0.909539206010061, 0.9252011084960546, 0.9069157054783015, 0.896394319051693, 0.932777073029384, 0.9161090317018515, 0.8962129857494912, 0.903466273420972, 0.9030069570739216, 0.9160460794815535, 0.9292541573255607, 0.9184424328320606, 0.9128956526792408, 0.9178172948769734, 0.8903835864415963, 0.9252155921933714, 0.8869924552854698, 0.9110303747578585, 0.8879290592966056, 0.906819935307197, 0.9076447634852224, 0.9207644023447221, 0.9102148188439074, 0.905671724262096, 0.8864464521811585, 0.8912029053412326, 0.9193213518956673, 0.9096218627369651, 0.9123317012649987, 0.9344565352799749, 0.904141568489338, 0.9263352556929378, 0.9249217616885435, 0.9351180227006349, 0.9079678463138937, 0.9173534015888257, 0.9190167718545302, 0.9165136294656094, 0.931052773172391, 0.9367417444887413, 0.9223915498206878, 0.9019450327379954, 0.9143081571421863, 0.9176619980111955, 0.9018530683011202, 0.9248007145228971, 0.9112262415818184, 0.9224652755610206, 0.8969643698699088, 0.9201683037358491, 0.9145767711207923, 0.9045325228205037, 0.9273401963024358, 0.9132936888785392, 0.9429839515351987, 0.9239360815583997, 0.9100990430148286, 0.9046693753578361, 0.9005834216333471, 0.9192977803020804, 0.8943265924222346, 0.917601473643402, 0.9033325026240171, 0.9038229734072232, 0.9090353504046644, 0.8937379073307967, 0.9390068727940297, 0.9110271664761951, 0.9067805511370944, 0.8848425181168831, 0.9218450835153035, 0.903042422143204, 0.9243822912749434, 0.9202625746793875, 0.9162415873590511, 0.9362855219272561, 0.9189656315980615, 0.8799137247820024, 0.9225424365255807, 0.9024428452509682, 0.9252048405419373, 0.9287439188960166, 0.926170671945178, 0.9118236193277601, 0.9278237644931865, 0.9336652598658627, 0.902880799143881, 0.9185474666498548, 0.8940785975169561, 0.9123724604837524, 0.9318798853571549, 0.8961101629352429, 0.9003999393026667, 0.9306968157583, 0.9110349505089773, 0.9116618474121537, 0.9374297459765898, 0.9202326961761125, 0.919857786918527, 0.922338718289298, 0.9358172014224663, 0.9450595239056547, 0.9291201234470222, 0.9147393776601921, 0.8995886527861634, 0.9130392299091459, 0.8982916661562201, 0.9095203540423153, 0.9047547149573888, 0.923054042913952, 0.9014145482575534, 0.908320933040107, 0.8879769076499353, 0.9225790239235293, 0.9081918038679899, 0.9232779317289794, 0.9071827697434685, 0.9109779035274732, 0.9299124495072373, 0.9284579596691958, 0.9318712326860831, 0.9077934365057239, 0.9213260083320505, 0.9042617531630465, 0.9405191816272201, 0.8926418607289713, 0.9430543957385565, 0.9214320301115649, 0.9177222559440769, 0.8956773875038115, 0.8952101528223058, 0.9162948999429711, 0.924954674917068, 0.9344773750516356, 0.9201451156423809, 0.916922553603296, 0.9176624282031075, 0.8931893200245202, 0.9091035773312851, 0.9102821571517723, 0.9157775099367814, 0.9229292366189523, 0.8974497972899594, 0.9222955985454816, 0.9048189494989953, 0.9254187146787813, 0.927938825620177, 0.9046780757219985, 0.9239703653635525, 0.9221347377535851, 0.9016150824586442, 0.9051605417053246, 0.9171321836753513, 0.9184586500814423, 0.9035544298658159, 0.9236961073096208, 0.9268435679829339, 0.9034767571717408, 0.919918509669719, 0.9212247472700996, 0.8827113645338834, 0.9088311887314369, 0.9151120922880454, 0.9159092387460966, 0.9202292675906392, 0.9176867553100381, 0.9210200296014113, 0.8985423497483367, 0.9096512655598631, 0.8883639757281829, 0.8939356193047714, 0.8924579313744989, 0.9123205065639635, 0.8963361739569511, 0.9048974535473456, 0.9195699986798735, 0.9108079960243037, 0.8924480922120411, 0.9351308525466139, 0.9087869560211184, 0.8926112867914787, 0.9223770780836746, 0.9142533653807866, 0.9099384139590483, 0.8987299504704938, 0.9170681046623588, 0.9074105020213417, 0.9166004108109524, 0.9055990569772823, 0.9181693394347856, 0.898571359169886, 0.8883830247828166, 0.9327070472128431, 0.9177084235329774, 0.9185863875158606, 0.9247195857566939, 0.9224745152565424, 0.9202902520715182, 0.9225701331088724, 0.9173071663961443, 0.9303762733791301, 0.891488782828687, 0.8841639566777312, 0.9309510265330289, 0.9047981549934495, 0.926858703521875, 0.909269328921225, 0.9179742284219393, 0.9202218963676402, 0.9057964809811914, 0.8963283139812244, 0.9225710947214858, 0.9134151299677603, 0.9297738317722788, 0.9072702562824, 0.9061038519277542, 0.922385153072015, 0.9099493623506124, 0.9109537363079021, 0.9161483357977491, 0.9224737372366558, 0.8987981484807086, 0.9452604108891093, 0.9215411562042989, 0.902994058425391, 0.9058867620702797, 0.8936837382148279, 0.9239398879264148, 0.9310634136812714, 0.9095018986169963, 0.9364460749389741, 0.9033092782016889, 0.9152036785010266, 0.9037945394352576, 0.9100277207250401, 0.922039609731174, 0.9114325585784195, 0.9092169245603494, 0.9000053890184699, 0.8944517143837993, 0.9070187876490924, 0.9160302450670694, 0.9182431229435164, 0.912815549579494, 0.9187314613171199, 0.9005546904174471, 0.9018328610575794, 0.9047354981220703, 0.9010151683335956, 0.9254736891872223, 0.9179364128288822, 0.9206305214602114, 0.9177066555301915, 0.9334051018863192, 0.9064731623516599, 0.9302822949575966, 0.9129111320841967, 0.9132811545708288, 0.9245281916196306, 0.9367442182224083, 0.8967656383766961, 0.9141656995292884, 0.9116244437209939, 0.9056171029315567, 0.9103112671096548, 0.9034662977128458, 0.9264600543637433, 0.9209583048299413, 0.9017012417689185, 0.9038668686928651, 0.91929069575719, 0.937835060751492, 0.8858699323069497, 0.8877150161099663, 0.9047837905056755, 0.9008737438841291, 0.915711465809093, 0.9185014606981344, 0.917956912770826, 0.9035026447351047, 0.931406050108707, 0.9271292720144212, 0.9343376170317392, 0.8853735611226472, 0.9097490775158712, 0.8964145406674575, 0.9149499394484415, 0.9098412230226105, 0.9113707089432697, 0.9180873217178114, 0.9191314816908766, 0.9095993163413242, 0.9385673777214992, 0.8961868849913313, 0.9171580742030305, 0.9249273653019299, 0.911823429482774, 0.906386331002375, 0.9195231767982331, 0.9189049962311143, 0.9207484532180517, 0.9046735212287668, 0.8845329097672441, 0.9114411463628397, 0.9163532971846995, 0.9276403074239121, 0.9131496336209994, 0.9082024967673457, 0.9295512122684051, 0.9082198720724979, 0.8954146648629082, 0.8953762342861321, 0.9068440220866137, 0.9226932578367988, 0.9102425356473666, 0.895796439148853, 0.9034477295402006, 0.9018251194886313, 0.887644731119946, 0.8877105122847524, 0.9162772655529674, 0.9085348616378925, 0.9110312419589077, 0.8905994069874005, 0.9116675404219612, 0.8900426935258116, 0.9137955859939709, 0.9155609342592298, 0.9151971532560964, 0.8898333360687029, 0.9081890944834157, 0.9176720713233748, 0.9183335179309485, 0.9124539478369635, 0.9014920658267156, 0.8955980157319792, 0.9293376989680694, 0.9060825508074187, 0.910987823475819, 0.9033984591752384, 0.9052286716176355, 0.92391806323789, 0.9128997833252165, 0.9255486754045481, 0.9014732197129656, 0.9215875773743436, 0.9162864113345794, 0.9082913416908787, 0.9330017149492821, 0.9355798154838656, 0.9302941400433862, 0.8919512194780932, 0.9258917435834915, 0.9003744105305211, 0.928444564802503, 0.9148955516095743, 0.9387087527805774, 0.9381202607589406, 0.9038000640163999, 0.9067390012816909, 0.9052799711713195, 0.905778146210692, 0.8942631997901892, 0.884301707511752, 0.9150280457495543, 0.932768598259546, 0.8855251271407233, 0.9033293248101439, 0.9165900950282311, 0.9084988885529645, 0.912234875122401, 0.8937710805185518, 0.9290473642561435, 0.9134824879798304, 0.9223991539894723, 0.9132111963015732, 0.9154204469678852, 0.9173461221994779, 0.9126520273635431, 0.8931707513054022, 0.9141548828114157, 0.9072837553105697, 0.9409090247165199, 0.919120757481145, 0.9390885295904816, 0.9098401309824243, 0.9201961439633687, 0.9171164493026775, 0.9198831488251623, 0.9218699293557503, 0.9078175133854322, 0.9091280889346217, 0.9181048339357714, 0.9324509240888527, 0.9411210717464388, 0.9345099420194805, 0.9044393432421619, 0.9044308542187053, 0.9050470394790893, 0.9057722470355581, 0.8846347320289856, 0.8979509962616309, 0.8933978345967488, 0.9172227997136226, 0.9342733103580093, 0.8868248235310949, 0.902551254032454, 0.9087863953087835, 0.9110674101017765, 0.9113819894434084, 0.8901422135360584, 0.9051167289067314, 0.9046279729046234, 0.8958206384363844, 0.91245442128871, 0.9365121410693376, 0.906126435125919, 0.8982037772257419, 0.9219107768660726, 0.9010927790420561, 0.9067133093239275, 0.929739690152738, 0.8978666646757298, 0.9125902798004382, 0.9004234163401179, 0.9220466244838191, 0.9095646372738817, 0.911658373583957, 0.9369162334427739, 0.9182472426765206, 0.9222628147359268, 0.8946848571980054, 0.8985840484734431, 0.924960850355946, 0.9094862326145708, 0.9251458479882759, 0.9172477840528319, 0.9086593870196538, 0.9073212384718434, 0.8902990151076116, 0.9121505033917653, 0.910933055996872, 0.9038137269878367, 0.9250751817653057, 0.9224890808381679, 0.9315921654948093, 0.913611026363776, 0.9148611663390557, 0.9119252698405029, 0.9033833313242757, 0.8978418330453575, 0.9174480205736404, 0.9178971268831395, 0.9347604159894134, 0.9321207992236471, 0.8938922752160654, 0.9223460367359286, 0.9094471815592944, 0.9196411013834342, 0.8970045511700081, 0.9255526779443483, 0.9259645573784228, 0.9044961269650073, 0.9322316151405943, 0.9047124137284407, 0.8948496092088746, 0.9110573119889078, 0.912299252025715, 0.9069637773591359, 0.909109529000158, 0.9132016988004608, 0.9131630553935677, 0.90806138600187, 0.9224102512255438, 0.9073190763433471, 0.8964673099046331, 0.898803205147667, 0.9227754219112415, 0.9109903132366198, 0.896921970619606, 0.9179810525382356, 0.9027584253538671, 0.8851961695118232, 0.9250188502951461, 0.8861143278994069, 0.8990899820341782, 0.9279039080341783, 0.9325912918183633, 0.9172608022085343, 0.8903995845259047, 0.9022858490065158, 0.8945798336249402, 0.8874607816463064, 0.9088812725417685, 0.931677449050031, 0.9044593390062063, 0.881671505925756, 0.8954692250984807, 0.9143092818408907, 0.8915722529605701, 0.9091987682346511, 0.9059071364251003, 0.9087107256827879, 0.9076615651426555, 0.9306378940308935, 0.9245461153095256, 0.9361652510443589, 0.8954469418955028, 0.9150193585692372, 0.9080628968011295, 0.9165492912005369, 0.8997622612699354, 0.9076097096466402, 0.9365260152588648, 0.9107745858780782, 0.9147325745305396, 0.9058977369065047, 0.9166925666281155, 0.9214441130268397, 0.9195295502215782, 0.9067623846719959, 0.9188284948023804, 0.9200664836078332, 0.9164294171733663, 0.9418676070475288, 0.8976096438931901, 0.9324663609100522, 0.9268888812756487, 0.8893717807292646, 0.9321298320571261, 0.9334747120965302, 0.9359901239012822, 0.9238273006907922, 0.9118410758899212, 0.9080616079161481, 0.9122988819769502, 0.9401509098102145, 0.9302010967963829, 0.8997334010477871, 0.9274195143774236, 0.919242213316738, 0.9194653864585273, 0.8911621914113359, 0.9094981060718021, 0.9218909577235052, 0.8949847653454677, 0.9159061419255288, 0.8930943211283348, 0.9093865982247357, 0.8913924657117189, 0.900297255128012, 0.9048346391366234, 0.9024407812401364, 0.9154304395333515, 0.9130609960614458, 0.9168869661380223, 0.9286415626810667, 0.9252351485121305, 0.9222541105608485, 0.9081534716021765, 0.9216860288098735, 0.9069143865279587, 0.9178479833457499, 0.9037535919261128, 0.9038261041577463, 0.9202784360995964, 0.9204808378517274, 0.8910328689640932, 0.9146984511348866, 0.913775132766919, 0.927814438478082, 0.9047654383755724, 0.9120243365391236, 0.9100945240908149, 0.9035907758654568, 0.8893727585738199, 0.9167239705409731, 0.8988059788896882, 0.9260207959732972, 0.9191830566369851, 0.917466533645819, 0.9003423779951546, 0.9082180191654392, 0.908097987473941, 0.8870135245006755, 0.9062461346675275, 0.9204735033158002, 0.9183392010302776, 0.924319543780022, 0.927434492846816, 0.9267887864007787, 0.9213340319902585, 0.9048535490256528, 0.9212532275490906, 0.9117778572174805, 0.9280843190214584, 0.896729410401583, 0.9210490327919726, 0.9157488875505257, 0.9269557556111049, 0.8910905587386749, 0.8886035651761839, 0.918105730615806, 0.9113024797402968, 0.9277198787513513, 0.8992689251343505, 0.8746763937340101, 0.8967666479870251, 0.9426774388232081, 0.9298308514858378, 0.9156722090603031, 0.908931857883695, 0.9215464547138007, 0.9076338409995532, 0.9256114081056256, 0.9223450660464363, 0.932931048751473, 0.9111815678949532, 0.922566063577855, 0.9295472533796387, 0.882730730860958, 0.9397503590727136, 0.9004316151700952, 0.8982899940193614, 0.909632540758073, 0.9205451867264691, 0.9061685875430614, 0.9282858889878411, 0.9256836167819336, 0.9205949417789838, 0.8753642166000656, 0.9248113550867147, 0.9112025102763665, 0.9211053073324496, 0.9129067850644561, 0.9056120483920529, 0.919789300812334, 0.8993933013298703, 0.9341440378171977, 0.9248506546787646, 0.9252796193765318, 0.888347638784537, 0.9263150600510157, 0.9207011262202016, 0.8949309860106616, 0.9038923787868927, 0.8873400530942231, 0.9010992767491978, 0.9110893949019938, 0.9226773762418156, 0.9024604118592907, 0.9264546076802564, 0.9276784071721814, 0.9135861392256744, 0.9018424953411442, 0.9253076161153285, 0.9258749747066105, 0.9285144402255452, 0.9068228330321868, 0.9320018264437382, 0.8780687054807133, 0.9094112690513498, 0.9454186965689845, 0.8987516463536647, 0.9112973036501945, 0.9033971584036523, 0.9200455337707579, 0.9180321201186008, 0.9127681354317008, 0.9313608889177848, 0.905031142116691, 0.8940666253719207, 0.9104120415585897, 0.897324716132463, 0.911459983896266, 0.9086580028982567, 0.9195710881968576, 0.9071697254379472, 0.9167100950711399, 0.9295280220236779, 0.9184895268468246, 0.9221413642681324, 0.9018778062580792, 0.9226064407449391, 0.9235042974847407, 0.9278980530033836, 0.9036292409593166, 0.9008618365570394, 0.9219687029272978, 0.8925741107091885, 0.9161147681735856, 0.8878069038710654, 0.9266904970597859, 0.9021803958797523, 0.8863162538558067, 0.9232391642786135, 0.9371636307657216, 0.929707836520571, 0.9331286003564117, 0.9145612411408409, 0.9109510523224728, 0.9069058285973723, 0.9115654444885142, 0.9144167249436943, 0.9256286301490259, 0.917339946638904, 0.9256385747781227, 0.9045978398894904, 0.909775818277418, 0.9212188669256843, 0.9028252659234404, 0.9282590121987239, 0.9241399718320261, 0.8985616954128879, 0.8960006295285428, 0.9190276033670095, 0.8944519114439824, 0.9080349633670841, 0.9363372449572925, 0.909363448840299, 0.8902717960371729, 0.9388629893355438, 0.8975644305650419, 0.9158304880932059, 0.9270768437560979, 0.9080930195119703, 0.9192912948965973, 0.8911660122492405, 0.8900476055321049, 0.8935906291194881, 0.906042719458529, 0.9275350411402418, 0.9393179728491399, 0.9271236874339616, 0.9101073909343579, 0.9080987879908069, 0.9096537308212586, 0.9171050440608156, 0.9179354222632624, 0.909074423629482, 0.9061908772830021, 0.9069516856612186, 0.8850485082374401, 0.9036845724648895, 0.9243486018629131, 0.889136935659382, 0.9291752299452584, 0.928069088294033, 0.8815542983453089, 0.9091483754216187, 0.9183994541188285, 0.9157468221051388, 0.9003591268733914, 0.9238714933519444, 0.902303165008721, 0.9276065118725605, 0.9125636937978883, 0.9063346872462802, 0.9136842057800747, 0.8898346043028604, 0.8870849003153114, 0.9155097697931901, 0.9091649926378659, 0.9059667258588299, 0.8973519621573925, 0.9082256370222513, 0.9279497786328341, 0.9235455481832475, 0.9083258678359576, 0.8913137708298257, 0.886739625988744, 0.9042192705361175, 0.8939269188675555, 0.898246049582395, 0.9232847428045865, 0.8952085138079348, 0.9243069374579154, 0.8908956305874519, 0.9045605875549947, 0.8859253853277445, 0.9171028583928201, 0.9069828037980515, 0.9047857020174702, 0.8925982954315247, 0.9082285314246705, 0.9271765757281776, 0.9206850961982522, 0.932561653089485, 0.9261015134511371, 0.9114895967079601, 0.8996493904503335, 0.8875090099300115, 0.8976923825367207, 0.908532973572183, 0.907983462868027, 0.9322483508345394, 0.9044346925920734, 0.9108920614425475, 0.9416551707241815, 0.8998617396889513, 0.9043792065325869, 0.9360234967022736, 0.9075584317840333, 0.9404810224449681, 0.9142292558755631, 0.9082070618331122, 0.9127981542525068, 0.8921287155203961, 0.9166890526825163, 0.8998945950262841, 0.9281524789310546, 0.92179104310562, 0.927454032155099, 0.9281005203580237, 0.9234393169946005, 0.9111131811205576, 0.9090050137227348, 0.9237124532884751, 0.9167913467960357, 0.9307962705783439, 0.9312931240442028, 0.9182185711867789, 0.9095807687764836, 0.8956573040084913, 0.905486019849792, 0.929990676216351, 0.9303991720804905, 0.9145854213513612, 0.9213558158222582, 0.9127211088167131, 0.8931788201004729, 0.8817407780299871, 0.9225515582858991, 0.9327130071467991, 0.9377806203174713, 0.8800281990018963, 0.906466474109064, 0.9110597213109053, 0.9342883719569366, 0.879382266757782, 0.8994958089138267, 0.9070636063286087, 0.9219758705126374, 0.8944252537091956, 0.9171977299391351, 0.906289103104831, 0.9149197575245542, 0.9193206569590269, 0.9104853684733087, 0.9248173155814687, 0.9141954549149266, 0.8984058695716011, 0.8925668693360338, 0.9021127240389315, 0.8925542471920211, 0.8991132665838162, 0.9285805945388298, 0.9090600986598665, 0.92210765395338, 0.9147572410226579, 0.9073864838106497, 0.9150167962217661, 0.8968954906282449, 0.9155431262007757, 0.9319900288187787, 0.8846182460962501, 0.922035786431911, 0.8928004793209625, 0.9001283594563984, 0.9275563820801095, 0.8954523161923785, 0.8916113091589097, 0.9281143289204029, 0.88995452417729, 0.9156005811955348, 0.9102972287644442, 0.9158820664787461, 0.8838426613744251, 0.9003147527393143, 0.8893449149602319, 0.8871863345623577, 0.9176914306438894, 0.9175818838676536, 0.915544803947014, 0.9146854945229217, 0.9022945719865396, 0.899659107923684, 0.9127310766144769, 0.9007974407366051, 0.9249776766221607, 0.9243559103296237, 0.9063789574951515, 0.9105750441404935, 0.9189014547272989, 0.910378207457582, 0.9083357363130043, 0.8920427190744064, 0.9115110505580275, 0.8854661624108203, 0.8789626080518547, 0.8977116868727706, 0.9165803835596362, 0.9177096881072051, 0.9364796301261704, 0.9318190815379161, 0.9158208898187068, 0.9213231285846745, 0.9305053638914417, 0.9125916399357247, 0.9170493721504044, 0.9328766583316537, 0.8875237057286849, 0.9076880879913156, 0.8742761890525688, 0.9369857880380972, 0.9113475975907486, 0.9296154063730293, 0.9018191293175344, 0.9040947228359685, 0.909771213284487, 0.9024180978100671, 0.9182325126862922, 0.888568643107963, 0.9324164682280621, 0.9174373729705898, 0.8990952577447037, 0.9062651225645071, 0.9357241475512423, 0.8836686471992428, 0.9191284237398373, 0.9402277868296611, 0.9046573105159871, 0.9012846546484095, 0.9197590605821162, 0.9151962665615587, 0.9101787975858496, 0.9351374516054926, 0.9082173953427299, 0.9322761241558571, 0.9145272079562885, 0.9277691635615706, 0.9132973011272221, 0.9313956328165166, 0.9005396988010961, 0.9285476114548581, 0.9413312076321521, 0.9067575967096655, 0.9147520616257998, 0.9387553546095865, 0.9104724726761871, 0.9279873275226762, 0.9259016171903183, 0.9109954835805028, 0.9138478286587973, 0.94020424016367, 0.9110164730247138, 0.9258076483452516, 0.9061806568977353, 0.9035961765716771, 0.9242327663836774, 0.8949794589035964, 0.8886729452861192, 0.9114030291876175, 0.9075322055370023, 0.9305508233162594, 0.9013887114436203, 0.9179793396360115, 0.920620338695248, 0.8916675055859727, 0.9197717015877359, 0.9175750923160689, 0.9152236836984042, 0.892491374111063, 0.9098133812408888, 0.9179106331466925, 0.8938611021517459, 0.936309366756589, 0.8947379894187084, 0.9282918182474728, 0.9022489670598604, 0.9013899640755697, 0.8844831564275653, 0.9137659748929381, 0.8967077173157773, 0.9143779135182037, 0.9196851887000252, 0.9241640370680877, 0.9170870282619312, 0.8990334120587745, 0.925402176423514, 0.9240206344887828, 0.8995354098744652, 0.9215832802679725, 0.9033755438990712, 0.9163787716112505, 0.9220160620918014, 0.8809330276272155, 0.9081413497727687, 0.8930527996220391, 0.9047592794903133, 0.9130214349213946, 0.904310648564138, 0.9198624941470959, 0.9298953379683446, 0.9312023570153224, 0.889240929900434, 0.8818242871910734, 0.9236639363363451, 0.9366726209161519, 0.9342384604712135, 0.9259947975227899, 0.9155835373973537, 0.9414830081668786, 0.9063648644021892, 0.8876472694883503, 0.9212099519765196, 0.8867241396171935, 0.8956857763139238, 0.9149318197390736, 0.8936560460282189, 0.941736691307007, 0.9076141182768296, 0.9092689972797685, 0.9220071567594768, 0.8936305704167977, 0.9126944010150293, 0.913342815491289, 0.9220566383574414, 0.9012620054135385, 0.9064350949593646, 0.9287163932216855, 0.9331231716582178, 0.8914414250421142, 0.89644440583665, 0.890989562449625, 0.9221509438538139, 0.9345517276324087, 0.9125535806164022, 0.9313567843497397, 0.917677714100804, 0.9160673148946297, 0.8941481793576318, 0.9117771545471537, 0.923571887839763, 0.929365035502822, 0.9257326960112037, 0.8968509388776983, 0.931668866597567, 0.9260123217965547, 0.920285243650796, 0.9095783220782895, 0.8986511123595791, 0.8900845262743398, 0.8941632412826782, 0.9343107381256145, 0.9193925818593813, 0.9274542483091106, 0.9389898338454358, 0.9235673896259442, 0.9010725951318526, 0.9200680139644458, 0.9235850288826615, 0.9127802686886504, 0.9337851017401941, 0.901328803403634, 0.9250166201277003, 0.9198802943492418, 0.9014557270311936, 0.9108748238254906, 0.9159314209627794, 0.9225381354391256, 0.8777761874045878, 0.930037019319993, 0.9012644576676405, 0.9224249468478531, 0.9077146415294817, 0.9067929835359098, 0.9042152539034919, 0.9134321360178304, 0.8981260615001547, 0.9148357537461675, 0.9164599561726584, 0.9170041107401766, 0.9233927677963403, 0.9097650386187861, 0.9205563392684143, 0.9133302995291543, 0.9219735724834979, 0.8957972254121838, 0.915794792047205, 0.9226939783579947, 0.9131062662204521, 0.914762761134553, 0.9213001119943093, 0.9223389139427997, 0.9258961249478156, 0.8940590824238293, 0.9231971599453656, 0.9136972455386492, 0.9085765088611815, 0.9280853800370281, 0.8855629030351679, 0.8944878180314769, 0.9314753926857477, 0.9182095308077121, 0.9420858737845267, 0.9196610589603064, 0.919361497523592, 0.9165650170629057, 0.9405796282258128, 0.910975272774929, 0.9026977523004733, 0.9208523114889128, 0.9194812751883443, 0.9091483793355003, 0.9280266505025526, 0.9062638060548446, 0.9211543032802072, 0.919910669632229, 0.8842385273460748, 0.9339505094408401, 0.8970092921748, 0.9163877946334515, 0.903622992004348, 0.9006567815276725, 0.9054660229337385, 0.9240593218483526, 0.8915740157921965, 0.9032827663902515, 0.9020619284811676, 0.8972898804753855, 0.9216298214660337, 0.9383593777077314, 0.9036053586133198, 0.8960382423908498, 0.935447863107825, 0.9158212718739824, 0.8897207707349715, 0.9033060885669264, 0.9163369086231996, 0.8983400861581072, 0.8916132150574899, 0.9213762005755202, 0.8924063131776439, 0.918254533461774, 0.9046912720371224, 0.8894402827804444, 0.8778328400711476, 0.8895081671972817, 0.934994875148017, 0.9128984676014352, 0.9172972924494884, 0.9307788092256136, 0.9136286202269072, 0.9168601350251855, 0.9159674995646219, 0.9054452707837536, 0.8987721109581738, 0.904860910242203, 0.8929869621405233, 0.916382279995814, 0.9246092546984912, 0.9367728330684783, 0.9206129382971482, 0.9400686999792552, 0.9075545961205194, 0.879612936098201, 0.9114625038104494, 0.8883539274596831, 0.9310939943280554, 0.9272112988999291, 0.9385378555976106, 0.893131821010908, 0.8829544133741261, 0.9292580467453295, 0.9081663285694332, 0.9229303464215576, 0.907786861171073, 0.9076059539161545, 0.9131580386475966, 0.928199372489154, 0.9161066965123019, 0.8961192364172395, 0.9077176669789965, 0.8936071120296064, 0.9258763117285552, 0.9148755972590945, 0.9113960969850565, 0.9330891332776771, 0.9356175559115801, 0.9211920484360604, 0.9265998107696711, 0.9237109504003749, 0.9133484335065354, 0.9098971286576184, 0.9087235920106784, 0.9291889391862447, 0.9040319788592446, 0.9253106791951144, 0.9086130682782663, 0.9192810968871887, 0.9221882695319827, 0.90608812512056, 0.8948377855597054, 0.942432529824169, 0.9119885318982094, 0.9177791359561533, 0.8998894026487384, 0.8976893506149851, 0.8975287681719574, 0.90038933629076, 0.9223855748985198, 0.8976353078983712, 0.9271626310613466, 0.9202704428076928, 0.9130155583739197, 0.928993876204819, 0.9197851759087777, 0.9036638996526865, 0.904275639511565, 0.91412109796812, 0.9232908230488326, 0.9110631638416724, 0.9094773101531443, 0.9023393787569836, 0.9222461915186002, 0.9185254215387897, 0.9029254599583599, 0.9181573723954001, 0.8956428669124032, 0.9276835190033185, 0.9239379066805705, 0.9143055637096253, 0.916232960391588, 0.9175790623634879, 0.9320207687310033, 0.8778080459072236, 0.9253779857782203, 0.8952347206476119, 0.9170232067075581, 0.9309444071820908, 0.9209927461892919, 0.9074632353401811, 0.909031579663865, 0.893689241075912, 0.8960240880973696, 0.8890697551009834, 0.9070085549590186, 0.9015491050411912, 0.9263945528034694, 0.8807169315629455, 0.9219164160954048, 0.9096390569928616, 0.9329440987365539, 0.8995727606637997, 0.9205868307348846, 0.9076119050006861, 0.9223988703397048, 0.9213973683609242, 0.909640653290605, 0.8958978060272423, 0.9152225698933392, 0.9019170456683643, 0.9223091908474029, 0.8955829002870255, 0.9147390202580066, 0.9176720550343711, 0.914170999155794, 0.9214815439356119, 0.9373220226290481, 0.9359258137859261, 0.9222958460048518, 0.8923546594518639, 0.880749001057276, 0.9385577125577953, 0.9205627335135729, 0.8980674058807194, 0.9366036944619637, 0.9458258612439301, 0.9218276615565772, 0.9085808870378838, 0.9276456048892027, 0.9302193495124474, 0.894605492396233, 0.908125615887458, 0.893596680060263, 0.9120205801789519, 0.8866338012009345, 0.9357448126766243, 0.9271944867853619, 0.8957530756869793, 0.9046686481163946, 0.9155494131507232, 0.8918507609931456, 0.919097514112681, 0.891794977733025, 0.9156849170491422, 0.9195737122778287, 0.9232213410654936, 0.9138142773278005, 0.9232950819313018, 0.9130712138377155, 0.9146098105861571, 0.9112710034697117, 0.9080501817928928, 0.9078612903232686, 0.9084841495704393, 0.9312711161937479, 0.9211917452874596, 0.9163384944179551, 0.9063794550452683, 0.9307099115400109, 0.867896396280719, 0.9208773473078126, 0.8970751642680819, 0.9125596501675803, 0.9113141474028945, 0.9263659730252789, 0.8918951084334953, 0.8869405967639625, 0.8945119042106793, 0.9146854667331913, 0.8819867911635404, 0.9258407515013191, 0.9261864167018307, 0.9272288564413436, 0.9018837292419346, 0.9019939615282122, 0.9079265807308019, 0.9161514947575325, 0.8820338377079348, 0.9361459521471048, 0.9235576625198388, 0.9316404986920195, 0.9243825928202452, 0.9259665045455867, 0.910145319364952, 0.9049461693326529, 0.8901444346548594, 0.9312252185668403, 0.8964212009460766, 0.9169300717046528, 0.9039013220401654, 0.9072182544128062, 0.9191067334686948, 0.892629477737969, 0.9314412091923616, 0.9095495033403342, 0.9018338304374666, 0.9049613640980045, 0.8930405966418973, 0.9104997729632174, 0.8955157013114582, 0.9118141466968038, 0.9446427435229264, 0.91281522645108, 0.8965342425015143, 0.9010009138839474, 0.9138967620353429, 0.9196054000367762, 0.9235312555822885, 0.9233583767897722, 0.9272489616705543, 0.9076672647274068, 0.920881179172977, 0.9091797523904647, 0.9060925132928643, 0.9180881216147276, 0.8846200481481759, 0.9342357447268961, 0.929499012897052, 0.9260214316515831, 0.9162637283985812, 0.9224778391948717, 0.9094895057927048, 0.8842547546446984, 0.919112223988637, 0.9013159670855365, 0.8739361935423736, 0.9047844869798398, 0.9046455462291039, 0.9115861523130792, 0.9122237787361945, 0.9095445261764619, 0.8826220084239257, 0.9037135267209427, 0.8891746476668889, 0.8952075444366525, 0.9164298655927543, 0.9071723807326576, 0.9087361917716728, 0.9260199739103873, 0.9080110662997563, 0.9298216023758962, 0.9120338807310551, 0.9034534530969388, 0.925932951802701, 0.9231836262577575, 0.92562710018743, 0.8974058387529776, 0.9358491797425962, 0.9050097055489945, 0.8961714852205676, 0.9029738416910092, 0.9133557423964611, 0.8931520128318254, 0.9255473884204368, 0.9147663601836333, 0.9103832508116767, 0.9117394643051907, 0.9240397990335079, 0.9105631661007234, 0.8916860876481298, 0.9132155808746261, 0.9196548164921569, 0.9192682195704068, 0.8973487337546489, 0.8953188347527762, 0.9149723819906018, 0.9065329420468466, 0.8876937497018653, 0.9238630597117155, 0.9248878076270247, 0.9041381886269378, 0.9042871797401457, 0.9247046537518212, 0.9313088029989527, 0.8976303458733209, 0.9061340192008938, 0.9201459106455816, 0.9060536772594455, 0.9118565043477199, 0.9092992687925164, 0.9142771338763296, 0.9148408688604228, 0.9203284422301006, 0.9011291185834083, 0.9046827390084811, 0.9013982013431363, 0.9226456466543654, 0.907747881386625, 0.9141447972834671, 0.9192539392110647, 0.9136172824979292, 0.91564189068707, 0.9192305776066964, 0.9161545930928663, 0.9183375266577458, 0.9104784139656243, 0.8992117299451817, 0.9172005318513523, 0.9242209181868689, 0.8880252925862245, 0.9144512189556493, 0.9082283194553048, 0.8883708831040616, 0.9112807210495648, 0.9089677236216895, 0.9233310649462647, 0.9222675045163617, 0.9152819320962918, 0.9177246759592405, 0.9210562161288339, 0.9085119289731945, 0.9031473142010462, 0.924586737444575, 0.9187871507458114, 0.9139781017100408, 0.9113260541269205, 0.8868623193040724, 0.9041682346640297, 0.884675127717041, 0.9068839230154262, 0.9113202831955928, 0.884377482469269, 0.9089603112404135, 0.901440665103864, 0.911160500428166, 0.9283397057405236, 0.8921545381928502, 0.8888631457150582, 0.908957060400627, 0.9146095939137522, 0.9041204540912037, 0.9274683305666946, 0.9025000846541754, 0.900887814791003, 0.9285943308117532, 0.901863961850032, 0.9303948088625555, 0.9047642858067442, 0.9056812256060903, 0.8931562779617926, 0.9314036135981411, 0.9260494439031226, 0.9128770432381202, 0.9372937372809542, 0.8745004356515085, 0.9085325268642044, 0.9200236421415667, 0.9166296356291844, 0.918381193513179, 0.8986883288869378, 0.9248227711657475, 0.9366067773479102, 0.9115840931105121, 0.9083072416800193, 0.9359810014812989, 0.8842026159290526, 0.913761400437537, 0.9406079249752013, 0.8944053004892215, 0.9009994127144914, 0.9036311458616397, 0.9011213853255318, 0.9112716287998679, 0.907292579950298, 0.8975985825660223, 0.9067215635258306, 0.9221264816094206, 0.9076156353403856, 0.917234165975128, 0.928102096293447, 0.9249911376800705, 0.9201887191366845, 0.9054672920543171, 0.9058768138727966, 0.9291922765499058, 0.9292872484720074, 0.9220433939708846, 0.90460683085269, 0.9297372625646747, 0.9165858439942849, 0.9114929311573766, 0.9215345726466162, 0.8987586775763874, 0.9199069678264592, 0.9143059182828929, 0.9153796696407972, 0.9227139316625816, 0.9219778164078255, 0.8999079790829726, 0.9197961504211256, 0.9098689950954876, 0.9078053980362276, 0.9375681995293874, 0.9043941132120951, 0.8829452763773907, 0.9214540173854041, 0.9304855417053803, 0.9314004514245634, 0.906973770645121, 0.9222020856102714, 0.9147213131857972, 0.8991730355667423, 0.8960771202176732, 0.8970941962061383, 0.9357501226963432, 0.9136186277000169, 0.9012523094953145, 0.9163042701154266, 0.8933931003221389, 0.8862716582725803, 0.8902338427689794, 0.9042248970448423, 0.9057573235229334, 0.9266917948522975, 0.9266954476774599, 0.913148754165849, 0.9086174558510981, 0.903369502012989, 0.9035465337927128, 0.9172487362129156, 0.9204712226705161, 0.901763226459038, 0.9026647183560933, 0.9109153922067579, 0.928625136445717, 0.8942174145634828, 0.926066659075421, 0.9262210489679528, 0.9102514979815886, 0.9164584103970267, 0.9166844996549748, 0.9207492196816631, 0.9271370848580842, 0.8939444945206922, 0.925115726848095, 0.9080188808283006, 0.9057522063278047, 0.9290165272474569, 0.9185914026008916, 0.8926412037610175, 0.879481641506263, 0.9029524508967884, 0.9299169893894347, 0.9169555313643365, 0.9210125901634817, 0.9084959190264632, 0.9264869910266741, 0.9201124972434849, 0.9328036821926251, 0.9210876955449097, 0.9037219287051657, 0.9232257417833544, 0.915103225842224, 0.9214190489163625, 0.9109024597811376, 0.8959658329288032, 0.9307929486157736, 0.9064185851594151, 0.9253317484527088, 0.9233214512871926, 0.9287946038081414, 0.9053546697017366, 0.9243918206624698, 0.9137550933087117, 0.9013064398357828, 0.9049403263076115, 0.8859390284295567, 0.9044162463465866, 0.8970190113235926, 0.9266888086706245, 0.9115473051319533, 0.9015740529148968, 0.9229311437087453, 0.9126408945497396, 0.9073172956897246, 0.9189562590926355, 0.9236423533355848, 0.9164572674105316, 0.9165152502323674, 0.9253535249991454, 0.917370217677931, 0.9045978119715948, 0.9297351320856713, 0.9261241092643466, 0.9180623975787806, 0.9308679345709903, 0.9154192406801086, 0.930281761461769, 0.9377931284254255, 0.9184881534948118, 0.9199421251052835, 0.9073489173580758, 0.9224329484544923, 0.9003092954282161, 0.9159347581937769, 0.9224476651728025, 0.9308665284990565, 0.9105476853513482, 0.9125207006836161, 0.9179768548821126, 0.9068662775631926, 0.9157254555179793, 0.8994457616587856, 0.9164936726510807, 0.9121508758762062, 0.8885673079890537, 0.9273472326408978, 0.9080953314557827, 0.9191936671935631, 0.9109521691859748, 0.9275208253407207, 0.9190036667018797, 0.9010266749852403, 0.9099994844857415, 0.9207182663244524, 0.9265506796845681, 0.9146433372053182, 0.9129559133215646, 0.9228142046229345, 0.9106058341816391, 0.8987924919886032, 0.9333508107829436, 0.9187356186355671, 0.9104040441020068, 0.9067356026258292, 0.9284727500099398, 0.886107548608057, 0.9126325407821102, 0.9117574640788889, 0.9140722070046317, 0.9065732075983104, 0.9131804042771261, 0.912660374282171, 0.920177839777111, 0.9060001823177082, 0.8992909532587902, 0.9287727281980589, 0.9080447394493287, 0.9313547248039156, 0.9207125729216665, 0.9100100104813864, 0.9314261294339073, 0.917955672783332, 0.905759864268084, 0.8994807572596132, 0.9154643450370651, 0.9230856264438324, 0.9056882621040768, 0.9185154564414443, 0.929642281072368, 0.9077090550779542, 0.9258645792551549, 0.9136476879599198, 0.9059417179257027, 0.9094549621043426, 0.9150560802437652, 0.9169263834353616, 0.9034015062685186, 0.9180625194634405, 0.9050708650431758, 0.9275911725764092, 0.8959444398768237, 0.9048173027309436, 0.9208400999119132, 0.9105172828735753, 0.8940808166336894, 0.8897336875751544, 0.9263620466503951, 0.9303291148618709, 0.9254535503427207, 0.920963107959961, 0.9149902484210458, 0.9204052959381418, 0.8984913098405549, 0.907594928554457, 0.8889698141830775, 0.8945295244091285, 0.9165671153066808, 0.9336857703438768, 0.9201324477540392, 0.93439664223248, 0.9106172134326521, 0.9094400098704835, 0.9076651901818064, 0.9170736566608727, 0.9123360268082732, 0.909836764540118, 0.9076075972548577, 0.9150099822839448, 0.9224438876817536, 0.9394721278870239, 0.9122040875996407, 0.8781945581606935, 0.8896416097039829, 0.9126578362816591, 0.9199996854621858, 0.9048520708421934, 0.9175303560787692, 0.9104883559040801, 0.9200690884254915, 0.9209325824336416, 0.9004629781505539, 0.927792313859217, 0.9177705430545404, 0.9160129139912585, 0.9036330599545551, 0.9154404667178881, 0.8941305431129094, 0.9099074713299203, 0.9077662321990205, 0.9154534598220335, 0.8989326280225877, 0.9103236041718782, 0.9044107729119018, 0.9143481137905287, 0.9283857930717663, 0.9128235550253393, 0.926102311097506, 0.9074380900580625, 0.9136410688745982, 0.8880445233840306, 0.926901686486537, 0.9290087695524368, 0.9249260852176361, 0.8872213175455017, 0.9219318079176597, 0.9101348439887698, 0.9093263800016288, 0.9139282092757005, 0.9335615737603483, 0.8993371895898339, 0.9186072846172083, 0.9312707705439692, 0.9144699826105657, 0.9179290202582618, 0.8864496530559299, 0.9234159652385873, 0.9101939955184413, 0.9075142048822843, 0.9245700292057789, 0.9193554388998842, 0.919330479655359, 0.9265436605595923, 0.9115038900761099, 0.8966948318149663, 0.9048640185000035, 0.9290313177479116, 0.9102189885857311, 0.8808143464012425, 0.9231146422036364, 0.8969015071197087, 0.901898077975755, 0.9323525266599343, 0.921808602574032, 0.9200977438896714, 0.9137969744256818, 0.9037217072011684, 0.8928684257942319, 0.8926440642911889, 0.9163521601086664, 0.9322164622192389, 0.9231356710445686, 0.9375092858756644, 0.9035569965541456, 0.9075364160207599, 0.9005977700489395, 0.9081807057545751, 0.917790288698711, 0.9276654553026329, 0.9151159401447978, 0.9005862399021335, 0.9090666909624505, 0.9261590255216791, 0.9104234747083546, 0.897933984037148, 0.9047797292673596, 0.8911059371687211, 0.9056121996235789, 0.9094352781928225, 0.932759848673403, 0.9077954010623985, 0.8982058036734165, 0.9374883642407538, 0.9229903100039157, 0.9007965119724931, 0.9219474104394438, 0.8859142716719514, 0.909613872532704, 0.9276489490478378, 0.9254004841463991, 0.8954647294836389, 0.9176280156472101, 0.8990789306187342, 0.9239367581200677, 0.9022555081499681, 0.8997482562004754, 0.9229334119204572, 0.9205342157420641, 0.9073663578594671, 0.8853906039925354, 0.8815683640577661, 0.9134410990400231, 0.9001889530783697, 0.9213031984422011, 0.884691516535893, 0.8994571445304288, 0.924974488000984, 0.9376712495573871, 0.9100293616603564, 0.8930534092335429, 0.8849464906307417, 0.9341474539406506, 0.9296411033624216, 0.9179346081589234, 0.9228141882695808, 0.9322250653001611, 0.9015663995005747, 0.930195892561251, 0.9270271858518675, 0.9420771263226624, 0.9076751983044825, 0.9209596814804475, 0.9316601337513809, 0.9335800607706096, 0.933632353262916, 0.9090807905691021, 0.9294890704131564, 0.9162568372509611, 0.9152629079676871, 0.8931754159251103, 0.924001858300299, 0.9223770587501573, 0.9145338278772296, 0.9165024734955668, 0.9072872511887333, 0.9043748389691462, 0.8935178300749964, 0.9168162437175426, 0.9191628727263113, 0.9208935581352602, 0.9125166515933671, 0.9093957425529509, 0.8933407860472484, 0.9249172698147693, 0.925440537324464, 0.9305464059535107, 0.9128832146244305, 0.9172520328052776, 0.9037531819897586, 0.9102869136158347, 0.9047079722333161, 0.9291486794002773, 0.8970678039087251, 0.9243359853089139, 0.9368570351365084, 0.921957514865815, 0.9283302119845247, 0.9262653544029392, 0.8998901491262384, 0.9200244432678617, 0.9222616235172576, 0.9267061722952231, 0.8981141314305269, 0.923424201877559, 0.9042344357758935, 0.9105257725186537, 0.8960390664235405, 0.8925845120524987, 0.9230333972555628, 0.9198057068280622, 0.9000841057953435, 0.9130113343409609, 0.9065547056824242, 0.9384366673618003, 0.9147003057847963, 0.923453319494558, 0.8947667196687245, 0.9187710474236048, 0.9185427270107882, 0.909440324111489, 0.9136605725145981, 0.9057236805555251, 0.9259241627343928, 0.9134087000900343, 0.9119797229869613, 0.9114072324105407, 0.9120861388411937, 0.9006057046168781, 0.9215581261795543, 0.931294334211476, 0.9035289144609646, 0.9072410792403235, 0.9293670451909982, 0.920411024952728, 0.9035322538873685, 0.8883960692768335, 0.9223117252367935, 0.9326265029315433, 0.9388453177657796, 0.8897825326163132, 0.9224408787724091, 0.9038667154881403, 0.9254938708493793, 0.9176835200663687, 0.9127474701045311, 0.9158445357198217, 0.9186704248077188, 0.9262866611032767, 0.9096174632843178, 0.9171449150615973, 0.8980349067021272, 0.8785164712501115, 0.9096293704489613, 0.9050991365218953, 0.922234271774289, 0.9368050310344538, 0.9077133778434182, 0.9119161020822437, 0.9375143570970564, 0.9115105318946893, 0.9082909915232964, 0.8963719454731567, 0.8990826427924189, 0.9037999241010884, 0.9239051364741732, 0.8897411479376638, 0.9101401414412416, 0.9042066243474025, 0.9158569377646346, 0.9102741897583193, 0.9200744055272128, 0.9025059980896353, 0.9171073424062886, 0.9041536727810335, 0.9355066429618311, 0.9215426898174159, 0.9061281082839856, 0.905063948977123, 0.9274741077846523, 0.9274573071704941, 0.8931949511012091, 0.9199160259073184, 0.9195705965344518, 0.9210413677206315, 0.9057692467261009, 0.8988748475436071, 0.9225245411526184, 0.9177829825590489, 0.9094488017844101, 0.9090099956646825, 0.898927211142776, 0.9088059279620576, 0.9177207961468672, 0.9217455881154555, 0.9290422904549388, 0.9060944434684515, 0.9363196885234467, 0.9379177048635243, 0.9079454168378869, 0.9211315859287548, 0.9093686778472913, 0.8943087261361308, 0.9099816110791263, 0.9306250814638076, 0.9177407666083678, 0.9092800244071464, 0.9057199260678277, 0.9145760933672458, 0.9030742818594459, 0.8966884850491383, 0.9296773087507351, 0.9024922802452604, 0.901439202457922, 0.9304054256193559, 0.9016252469882864, 0.9279902469594031, 0.9014445468565742, 0.9204923527529075, 0.9009053315020142, 0.9197677045731933, 0.9135051845264138, 0.9185134693308472, 0.9095154460622048, 0.9265365575453208, 0.9216375615451661, 0.898796833680978, 0.9176205757086014, 0.915172349095958, 0.907220708992619, 0.9245884108353851, 0.9119502230266532, 0.9135642989644857, 0.9175579764145397, 0.9118536444464711, 0.9144208712472517, 0.9313992136631143, 0.894291498633252, 0.9304006596791481, 0.8909580287886627, 0.9223414900274802, 0.9197229916023912, 0.92592703703166, 0.9032715388393961, 0.9297561441723489, 0.9013177142186242, 0.925408044818266, 0.9366786969148575, 0.9097086828829407, 0.9151742113336176, 0.9115658026693193, 0.9166149486865083, 0.906326299266565, 0.9189526021829748, 0.8983005559042883, 0.8769303790759468, 0.9154209215542817, 0.9134663217336203, 0.8986467624721367, 0.9339980384315549, 0.9222798133494602, 0.9106867955932025, 0.904003298307407, 0.8784275182213844, 0.9209413167345469, 0.9245495042428974, 0.9119217916183752, 0.9138404033479353, 0.9200590824788125, 0.8984262154579588, 0.9038908454078138, 0.8942325437425683, 0.9277139064760092, 0.9102838190530985, 0.8963659288929473, 0.935740964428846, 0.9307676530826596, 0.8881288292059482, 0.9183756426414458, 0.9088970070016035, 0.87887591505656, 0.9089361288206177, 0.8929543279365857, 0.9156083118686464, 0.9095589933773526, 0.8913027188364977, 0.9016256296152392, 0.93116526846639, 0.9181726695991979, 0.9100692867035859, 0.9103486881416032, 0.8978068119078234, 0.8952646318178311, 0.9014865372970733, 0.9434643094698753, 0.8978388084855569, 0.9333482725119803, 0.9259117814475593, 0.9108657127863079, 0.9156042716518049, 0.8789422868558003, 0.9075481891096798, 0.9345854808116316, 0.9222643826599013, 0.9093048916365768, 0.9123777827100527, 0.9054486319074194, 0.912282860442695, 0.9338739302673559, 0.8942275760960717, 0.8892809259006862, 0.9130956305414035, 0.9242273247179691, 0.8917541602824387, 0.8963223497375566, 0.9176313762634563, 0.9261153993057071, 0.8934086419564937, 0.8921857455764969, 0.9280482185936337, 0.8991710231195444, 0.914066516724982, 0.929117397564019, 0.903440675499446, 0.8917549173089573, 0.9199165081317285, 0.9266835715145021, 0.9156433258408183, 0.9051033193142278, 0.9081273576994682, 0.9067360894684966, 0.9107044891033219, 0.8890688313847086, 0.9119760615453592, 0.9136449337399972, 0.914069781772031, 0.9274141563430299, 0.9065024971614419, 0.9320977721415052, 0.9151069745273035, 0.9260346914182692, 0.9219947924180975, 0.9304200798282078, 0.9079708267093516, 0.9330542701451552, 0.8937933152275008, 0.925663835929253, 0.8763063786748007, 0.9382095225186458, 0.8950836418277097, 0.888942686225584, 0.9150967131696683, 0.9162372707186553, 0.8876782396513183, 0.9155702786399136, 0.9304607749194308, 0.9113398066121834, 0.9282684067453966, 0.9115764522396288, 0.8982945887441275, 0.9384836232431458, 0.9315326138898757, 0.9122192349495257, 0.902571546630014, 0.8963848243224105, 0.9114515701158982, 0.8977920954254762, 0.8789787077741592, 0.9090018185635023, 0.9140594814350383, 0.8971587216784409, 0.9151450229366471, 0.9078374196727066, 0.9000741757159088, 0.914906921450117, 0.9128911467377525, 0.9034011278942409, 0.9014570643635734, 0.9117491377422533, 0.9174985074245856, 0.9084716046577738, 0.911227729229684, 0.9183111582615007, 0.9063321761108765, 0.9267965292552925, 0.9049539265707909, 0.91223397314067, 0.8792209312936271, 0.9167543805678591, 0.9122659693755595, 0.9199685483578517, 0.9040864872397335, 0.8959796028861334, 0.9423813038160045, 0.9084034106059292, 0.908258831781453, 0.9250681515465624, 0.9108922215135898, 0.9225025178149384, 0.9183179690697855, 0.9172978313873812, 0.9173965847111712, 0.9287400991201145, 0.9415776538987932, 0.9004311746648702, 0.9145865447479304, 0.8927053492694419, 0.8918749650046718, 0.9148294408569172, 0.903267650971435, 0.9100096183718555, 0.8709924796647306, 0.8834243962027337, 0.9120038516405208, 0.9265322522215026, 0.9164446111706476, 0.9148682462650324, 0.8720382604529652, 0.9312753314968297, 0.9115373384237354, 0.8801181626519231, 0.9222719969096572, 0.9187920274880634, 0.9170706353644118, 0.9059945154472021, 0.9027291205089771, 0.9304142201804734, 0.9303426571398432, 0.9103428757320459, 0.8923029442422236, 0.9118238724856859, 0.9147458106469795, 0.9190535706243699, 0.8989717868446236, 0.9110573777072981, 0.9159767121399676, 0.937125289192983, 0.923637850777373, 0.9142728363510492, 0.92293562983849, 0.897096020277664, 0.9235859654915396, 0.9099539205942868, 0.9000396368334909, 0.9129259211848009, 0.9182250817474835, 0.8835803156223522, 0.9143163095346282, 0.888185990148073, 0.9003888803827526, 0.9154700614942605, 0.9038141501846892, 0.8891695112055453, 0.9103502637244355, 0.9139141925043723, 0.9002647432898179, 0.9088512921212545, 0.9168467052483164, 0.8843076065440153, 0.9218882408381799, 0.9142952304065447, 0.8891782930479493, 0.9268251356667164, 0.90538884162438, 0.9065807430981686, 0.890838816011894, 0.907116303455444, 0.9226664188705829, 0.8886501772412989, 0.8983796680623346, 0.9105478971103039, 0.9016458052760845, 0.9344456295522388, 0.9228968400414956, 0.9172107566489346, 0.9156864132755261, 0.9135263402210065, 0.9104076867829681, 0.9278640158883432, 0.9144923173591895, 0.9185422100747161, 0.9142557248446486, 0.9317062285283724, 0.9098076346399809, 0.9022905964803433, 0.907931677774225, 0.9394962002213498, 0.9201648343122792, 0.8927461147272456, 0.916009289988125, 0.9240287439893792, 0.9306085703319933, 0.8982385451666248, 0.9336249578505142, 0.8929385045808041, 0.890030971466912, 0.9186762431489998, 0.9041475520704677, 0.9310057867564865, 0.9284159791601617, 0.9119452125091694, 0.8964989931252054, 0.9014347485280847, 0.9101507666837583, 0.8922575235135881, 0.9020099624680871, 0.9287667857187979, 0.9136565285726146, 0.9038488803187159, 0.9269500524959419, 0.9225834809511002, 0.9022810758577302, 0.9352086310544399, 0.9196417834835213, 0.9137786080095904, 0.9227271369339698, 0.9055928185665245, 0.906009303829829, 0.9226756119210657, 0.9135967620832783, 0.8995666087054114, 0.9279004810525743, 0.8994630112716493, 0.9195103553690035, 0.9292672200558567, 0.9218713744744824, 0.9252698992416349, 0.9091004741368944, 0.9024691898940431, 0.9152494603241951, 0.9166812853647026, 0.9104208385255894, 0.9091048566117278, 0.9197819427907421, 0.9138453762066172, 0.9156785071389951, 0.8991242403203814, 0.8898838195644561, 0.9012129500733087, 0.9104449385466622, 0.925804110784069, 0.9328003022433273, 0.9201555129183608, 0.9241442823046679, 0.8992553711235123, 0.916422026174491, 0.9045053643090102, 0.9054811695363862, 0.9172389256289707, 0.9165179307020135, 0.9011580066685649, 0.9294896131565645, 0.8942486669427033, 0.9014569801726605, 0.9306068974854632, 0.90023926021533, 0.9094492812744029, 0.9005797538067247, 0.9036153519299809, 0.9132774067200576, 0.8911307225231799, 0.9336158552701095, 0.9262517027498929, 0.8940261367977757, 0.9000914307866437, 0.8757817703548852, 0.8898634228475915, 0.9201125038377724, 0.8840048334578818, 0.9351950562545719, 0.934548018004664, 0.9070344263989923, 0.9322159422877314, 0.918590862936826, 0.9176823756401893, 0.9065605643869702, 0.9134439174408069, 0.9028504750424932, 0.9294048541303384, 0.9114399663041837, 0.9181568556028697, 0.9091881818520167, 0.9187957503664557, 0.9185904661300729, 0.9099295824537434, 0.9012862158149608, 0.8961706822198241, 0.91860420432806, 0.9001223723603662, 0.9046687001999897, 0.914950215062061, 0.9131396359390094, 0.9005890947101702, 0.8937778344814815, 0.929784415488426, 0.9054594113719302, 0.9099933033761259, 0.9295451569630601, 0.917994324221522, 0.9163700486145865, 0.9003632095651778, 0.8824328700175662, 0.9135289203380982, 0.9415876507899757, 0.9263123006704498, 0.915001219065357, 0.9062297627558682, 0.8896424121055768, 0.9178472143084782, 0.8976526923437879, 0.9288784038672301, 0.9094607654863273, 0.9198010608957208, 0.9001309565686757, 0.9206367829069163, 0.9145588484102152, 0.9093758627368806, 0.9238445342117098, 0.9168694901125102, 0.9235433702018844, 0.9218877683812013, 0.9036559019059336, 0.9366323094875618, 0.9071457830919865, 0.9341355721402921, 0.89556933150855, 0.9362025442507226, 0.9111087169924295, 0.8978160186143126, 0.901748957003978, 0.8989343024914873, 0.923216199178296, 0.9172748281997734, 0.9061825054536484, 0.9296640959223021, 0.8965172398749487, 0.9319239695605578, 0.9234730687059931, 0.9130088415451465, 0.8993702312605087, 0.9215329750539869, 0.9178871217596015, 0.9187958009343274, 0.9108803175143186, 0.9118420510389202, 0.9262220870756035, 0.913840401425209, 0.9209961094702863, 0.9027527586936523, 0.9489349325767885, 0.903737835679647, 0.901653649056803, 0.9020830057569552, 0.9118729392494958, 0.9066685951769218, 0.9192026788434913, 0.9206557338764596, 0.9077372202841302, 0.8938920020802508, 0.9130583773432848, 0.9061139796693907, 0.9088391120322166, 0.9226617091366959, 0.90363244292819, 0.9224629867217224, 0.8985436525050414, 0.8937459269038355, 0.9219676379400434, 0.9359541762488695, 0.9287905481637417, 0.9298004791094565, 0.9183113551684972, 0.9184333186818064, 0.907420540406845, 0.8874022639313939, 0.9179129129753194, 0.9219311414575748, 0.8886489631055571, 0.9253143895763378, 0.8940223321936167, 0.8949840328951714, 0.9116419200406033, 0.9168944924686184, 0.9136258526579258, 0.9131602009259661, 0.9255226316739058, 0.9248760574329524, 0.9310364994495158, 0.8987789231171656, 0.9212527360652834, 0.9276998722703724, 0.9229412409055247, 0.8958185807014395, 0.914420448600767, 0.910433300669521, 0.9159792635909504, 0.9284628167459208, 0.9025914737697527, 0.9146632811938149, 0.941114790749932, 0.9101557803318395, 0.9072461482928793, 0.8967886873505478, 0.9283577896707922, 0.901145881563698, 0.9199803980469614, 0.8904801667619584, 0.9170677372971301, 0.9292814925323448, 0.9089957324377407, 0.9232240398516263, 0.9006902996427859, 0.916962835575225, 0.8946611648584413, 0.9195544497736463, 0.9050397877362384, 0.9145479524266554, 0.9085202015049649, 0.9269934616948606, 0.9213212729672388, 0.90658174639727, 0.9220725481370083, 0.9148465172077147, 0.9241104392654811, 0.9304871195013406, 0.9137683377024415, 0.8928080677845784, 0.9210151686706157, 0.9088767353477873, 0.9241555537935426, 0.9199565596315593, 0.9306656794368063, 0.9193680950349932, 0.9227257294890158, 0.8961296986368846, 0.9171069545155675, 0.9037190360167136, 0.88659196360608, 0.9054435493408087, 0.8843836844404626, 0.928936948046895, 0.9231124595292901, 0.9008691605959334, 0.9209683762808122, 0.8942417891356045, 0.9135367225727526, 0.9149814532260168, 0.9193543427016622, 0.9114293801511149, 0.9106295572918045, 0.928567862827787, 0.9310490957362821, 0.9055484867900285, 0.9004993353532709, 0.8995470446090326, 0.9140141459320105, 0.9095562215934001, 0.8998385160442832, 0.9086796351441506, 0.9043003131440728, 0.91634742035903, 0.9072075778783809, 0.923873943772807, 0.9170979728369675, 0.9255678244714395, 0.9358851002660695, 0.8915920766072737, 0.909452797676362, 0.8874117227288604, 0.9237767148353766, 0.9214488255416609, 0.9300462262410036, 0.9332864648295122, 0.8887521887932703, 0.9093366227806319, 0.9074281358216525, 0.9242844120750984, 0.8963012263816911, 0.9187367078559819, 0.8992630863547773, 0.9146182178662735, 0.9020073772078248, 0.9327575375239971, 0.8883272813767671, 0.927270128048981, 0.9329692945920682, 0.9005143031514603, 0.9023742092477831, 0.9183387993247504, 0.886302785444553, 0.9063175646826953, 0.9043438036227478, 0.9381082466470382, 0.9138199021965877, 0.93610237243652, 0.9085253342988223, 0.9438798185995838, 0.8975856480688914, 0.9239368837231517, 0.9028991657675842, 0.8973964508247952, 0.9418936735271963, 0.9161815486528482, 0.9274807796483172, 0.9232562308248832, 0.9136336389262826, 0.9126602938560033, 0.904441323945379, 0.9325299802639361, 0.9147768162067627, 0.9109533119375323, 0.9195695727369254, 0.9269775432138564, 0.882103380907291, 0.9062139586277072, 0.926924161908279, 0.9195103944747877, 0.9360197484650514, 0.912108188412192, 0.9202831356065326, 0.9234047655881598, 0.9132515869504798, 0.9170860611883147, 0.9203221823367381, 0.9165389455041647, 0.9073110770182473, 0.9083990706647371, 0.9038395038948599, 0.8952694718884073, 0.9088795490862571, 0.9037594730554429, 0.907412157021517, 0.9219456844447267, 0.9365939298910139, 0.8897146966395353, 0.9374789253262357, 0.9094911853745964, 0.9143820460960455, 0.9068837103542111, 0.9050801286863853, 0.8984353992750116, 0.913067892733938, 0.9315461043791362, 0.9072696796579659, 0.909918069215715, 0.9346090264187352, 0.9281926334560774, 0.9306106265507754, 0.91523602186011, 0.9261709916290357, 0.9175311672213808, 0.8988474770494753, 0.9133658826550958, 0.8875433948038789, 0.9210135449236363, 0.9199588919310486, 0.9373386173877196, 0.9139797515893825, 0.9311791812044875, 0.8733139454961099, 0.9285495760491802, 0.9246133178763323, 0.9096853011950735, 0.9302156949115947, 0.9130686167586307, 0.9147954570977211, 0.900536249089479, 0.9107693263625591, 0.9035071514191307, 0.9113586476423744, 0.9225773978378013, 0.9170116761068422, 0.895943031454341, 0.8839594323615048, 0.9153356393857621, 0.9343695379140441, 0.9130727494625483, 0.9065093789899586, 0.912842044929379, 0.9238014364704683, 0.8832349550634245, 0.9384885395365805, 0.888471527460225, 0.8965905311033099, 0.9041378443403812, 0.8855805890217324, 0.9040272754058591, 0.911898651720512, 0.9079662735773775, 0.9221364830028271, 0.8975222076606311, 0.9219247026237533, 0.9449374633642639, 0.9167072533789413, 0.9149167707094235, 0.9207542832966015, 0.9221083623342766, 0.9136305748649145, 0.9267901875575064, 0.9076707661402748, 0.9071088104895365, 0.9029470051017512, 0.9207199112833818, 0.9306981867421993, 0.8950018186226187, 0.9095095650631697, 0.8915202489168877, 0.9188515688153069, 0.9010566846133342, 0.9027437503430793, 0.9168660906258995, 0.9231658524364996, 0.9172047145818775, 0.9153956796832065, 0.9057313140192594, 0.9082702449470901, 0.9089912359055607, 0.92157802749999, 0.9099164809547846, 0.901236298800572, 0.9123537634581959, 0.9371693427167171, 0.8892916673095819, 0.8960374118246628, 0.9196863812912281, 0.9277734047591855, 0.9068663861493822, 0.9216162303864273, 0.8898717002787634, 0.9049395726440268, 0.91866148857849, 0.878297295450112, 0.9007666007301139, 0.8976085596471061, 0.9218268231344267, 0.9151148923194466, 0.9285005298436879, 0.9065061093613552, 0.9251311705488899, 0.9257861017530664, 0.8741477659612422, 0.8989742861836535, 0.9005307138819414, 0.9145440664496092, 0.908699452080861, 0.9289280223013278, 0.9130285995357621, 0.9193700006613735, 0.9077262689503377, 0.9325729223673963, 0.9368284349790797, 0.9258059590387158, 0.898618120030053, 0.8739359065965433, 0.9045872288755415, 0.9102559340884107, 0.9188545507751903, 0.8905222028876131, 0.8966971576455519, 0.9259237977376495, 0.9276821343786915, 0.906103614679979, 0.9133643848644433, 0.9140272792786965, 0.9128220835119227, 0.8844507720337977, 0.9081879870062572, 0.9161387397348534, 0.9365372056083557, 0.8959240353324915, 0.9074889639894574, 0.9075291944340205, 0.8919189330118414, 0.8894623703669884, 0.9180628548032316, 0.9176293374667368, 0.9073690229908036, 0.9169782485906594, 0.8956433676587875, 0.909204080361255, 0.9088925935841453, 0.9347314380724644, 0.9179423215365071, 0.9189649623429796, 0.9164128567546033, 0.9102698765426503, 0.9009464220604885, 0.9297671050425536, 0.9052109285651251, 0.9127319119661141, 0.9227830839183645, 0.9190662137405204, 0.907137366255686, 0.9153003186155106, 0.9242169557638761, 0.9150203541748932, 0.9047885498710734, 0.912200921531023, 0.8857780018037602, 0.9124794907880508, 0.9394625240082269, 0.9160887967060576, 0.9283213945864266, 0.892007343445782, 0.8882866186483568, 0.9087213184733777, 0.9089933488453018, 0.9263757187267646, 0.8897306734632342, 0.9022931638690572, 0.9202779616427036, 0.9170964594588621, 0.9187692606201803, 0.8957472847898434, 0.8922912639772655, 0.9153168443036471, 0.9147148870186341, 0.9099720056788227, 0.8988007396575657, 0.9164105350813887, 0.8929263220794263, 0.9168572107859012, 0.8957248673132547, 0.9220220769061528, 0.9319880797962958, 0.9201815285335722, 0.8921206275052918, 0.9334771861328813, 0.9022823190587181, 0.8894625009858504, 0.89767757543051, 0.9212991091141838, 0.9102933076793956, 0.9153177685589482, 0.9221656580167533, 0.8864170725340136, 0.9213057002420816, 0.8977731114351065, 0.9112885977618517, 0.9040025510365658, 0.8998628053169352, 0.9298268265262017, 0.8993014260730274, 0.9068176067791051, 0.9235360160860857, 0.8881564744905166, 0.9308439832091499, 0.9061769021378068, 0.8989820268199921, 0.9189939538879031, 0.9188376867572725, 0.9076401149557295, 0.9141705195890157, 0.9202913929780775, 0.9055358009082661, 0.9136452400965325, 0.9298592232692241, 0.9128951537272167, 0.8838119997457141, 0.9213556731870209, 0.896413595485084, 0.9090434149501201, 0.9043420493404533, 0.8971314159991195, 0.8954656209249833, 0.931739912554887, 0.9113274133676625, 0.8910297351000807, 0.8826219682715155, 0.9149359260751343, 0.9054126469741077, 0.8996233048148734, 0.9206805552471053, 0.9064975572392271, 0.9157896611411868, 0.9210792369999781, 0.902318444881036, 0.9145364978306524, 0.920067766563047, 0.9396237198074231, 0.9242497184189727, 0.9035345021544313, 0.9222524488016323, 0.9025000426610127, 0.8814110198826356, 0.8904971591763176, 0.9297740190960329, 0.9380268660646868, 0.9231764500477435, 0.89130983193912, 0.9108799979780664, 0.9305994614385961, 0.8858809278782542, 0.9222651674029662, 0.9082283128888122, 0.9239228742415831, 0.8929643382682348, 0.9076229971890442, 0.9184714247824968, 0.9114381023500118, 0.9063186406152657, 0.9361656116491991, 0.9101579243873159, 0.9297168855664648, 0.9178894465977254, 0.9112694929052901, 0.9250216344718718, 0.9240626945203146, 0.9079510330278391, 0.9246210523879732, 0.9006494987374927, 0.9182743523086626, 0.8928865915496859, 0.913123507925876, 0.9078860118037395, 0.9250627502572644, 0.913378107354882, 0.9036606323147429, 0.8968817817191191, 0.9041405599641834, 0.8980152867061492, 0.9313530095788021, 0.9146866135097553, 0.9070909011323224, 0.9190773257142099, 0.902592661937772, 0.8916446604419586, 0.9092833409556061, 0.9214411966176483, 0.9309335285012469, 0.9291437842025237, 0.9040887863169128, 0.9189730610958813, 0.9034466263412426, 0.929243820704084, 0.9191636489572582, 0.9046906674349974, 0.9022652662174101, 0.9043030710228135, 0.9205926766612854, 0.8848239192900342, 0.899693061936038, 0.9004849372555821, 0.8835500926276412, 0.8984569868640899, 0.886566265929341, 0.9020812563026417, 0.9231162017319423, 0.9347560079036346, 0.89719496359615, 0.9182775363647743, 0.9290938723896337, 0.9099914211517914, 0.9086055017192889, 0.9025533662171903, 0.9151465310078336, 0.9310471471375, 0.9172002312815897, 0.9237624303254606, 0.9325880334811111, 0.8923417760291721, 0.8848657900092467, 0.9154503779905228, 0.8963580518237605, 0.9172377784457941, 0.9312498169339621, 0.9188178221639136, 0.8849010023143514, 0.9151963015325505, 0.9129445950132069, 0.893938036234011, 0.9007970556022252, 0.9167494579775253, 0.935567513320917, 0.9187659288895319, 0.912651366563624, 0.8894638287946114, 0.8986720047545977, 0.9115847451683612, 0.925318686313124, 0.9225316387303782, 0.8905429265086479, 0.9231565541597839, 0.9268636438736743, 0.893872807900757, 0.9014918654334653, 0.9252415830966816, 0.9116972223758335, 0.8971058320049314, 0.9130120671213473, 0.9045865869569039, 0.9123967523299423, 0.9182225818607181, 0.9351733376144495, 0.9257208224246295, 0.9168187966616734, 0.9325919449820222, 0.9328595789633314, 0.9314828463018276, 0.9105164891723304, 0.9214576137664434, 0.9389389065274307, 0.9020896988972364, 0.9044460506398101, 0.9085398985450546, 0.9024787662727461, 0.9219025698089216, 0.9321708468945955, 0.9289407737860771, 0.9282780658281353, 0.8876221554214011, 0.8983827964584161, 0.8870473366817332, 0.9343657269614539, 0.8832901106813229, 0.9129381964597613, 0.884957280378795, 0.9252721152446698, 0.9069775758456399, 0.8994369146864802, 0.9076678110660481, 0.9311595971420404, 0.9082601290132957, 0.8985263962288713, 0.9137007098807899, 0.9206588429260044, 0.9195608796191854, 0.911862298050448, 0.9082267354950316, 0.9185454082927842, 0.9095843692220769, 0.9102038091851039, 0.9008272296213363, 0.8909043426441747, 0.9107748995388402, 0.9078472684446789, 0.900752648181808, 0.8874743359454045, 0.9296844520396651, 0.9231400065683112, 0.9091842765529025, 0.9222305272801474, 0.9163558027269383, 0.9151800643093944, 0.9300829653041631, 0.9089942447052003, 0.8909732726062081, 0.9191674210642712, 0.8769589738045444, 0.925694395165133, 0.9352934047827649, 0.9202531845098195, 0.8983581999279293, 0.8873529706085792, 0.8894446750040998, 0.8797722325426502, 0.9157457488458385, 0.9307819311591048, 0.9270956778342321, 0.9079208231447145, 0.8969863330077854, 0.9237792510742907, 0.9349307549871324, 0.9330924890714237, 0.9043502562124767, 0.8947307980507945, 0.8875360018690807, 0.9267338489959365, 0.9274849356530727, 0.921262446466707, 0.9244586894005695, 0.9094766846664103, 0.91645588130609, 0.9001780700934711, 0.9197058714629962, 0.942130162989214, 0.9172058917287049, 0.9109389992091028, 0.9103875186971444, 0.9137808246573579, 0.9308567429015723, 0.9184367552981455, 0.944277612504439, 0.9227040463874019, 0.9307966982391592, 0.9139972318456863, 0.9123408320665277, 0.9252563230257567, 0.9324769412049964, 0.9258058989701606, 0.9327328446621119, 0.9157832382459741, 0.921961519855388, 0.9332895750149603, 0.9262306036465764, 0.9098690226191462, 0.9112764182555, 0.9064490709154606, 0.9054803624115231, 0.9112329999673849, 0.882438353616174, 0.9345181459027947, 0.8989587927846211, 0.8784582835095478, 0.8865974171988615, 0.9354624896518045, 0.9137858951692537, 0.9157924960342156, 0.8862115391937597, 0.9345358918270237, 0.9282931419611967, 0.9259075709009016, 0.9261632854405845, 0.9096893343280457, 0.9107774469261918, 0.9089020443638436, 0.8921085646669469, 0.914500620272745, 0.9319894052956251, 0.9248980397463118, 0.9273892896602249, 0.9245434272746045, 0.9104368695598996, 0.9162683384869607, 0.9021148450712534, 0.9007104540379198, 0.896768086307498, 0.920693706413873, 0.8997197281204211, 0.9059935169342418, 0.9103542102963396, 0.9084248543135964, 0.9169038140387236, 0.8902525018473413, 0.9214355188436466, 0.9057606571100976, 0.9255830735068028, 0.9144218164430993, 0.9116336830602627, 0.9068686317482705, 0.9083958160341609, 0.9073918260361258, 0.9087254240291001, 0.9127477820523722, 0.9244201155279547, 0.8988213060013622, 0.9278849266719034, 0.921978752683508, 0.9108950987227755, 0.8985651790664462, 0.9104161923777255, 0.9215463564097611, 0.9173502748216276, 0.9102649211340548, 0.9120239366775375, 0.9204059271321275, 0.924643225440537, 0.908726043787651, 0.9246559666528307, 0.9155095559967564, 0.9224658047028462, 0.9119908723348398, 0.9281818466234442, 0.9201579222009623, 0.9124108606227249, 0.9036649380403229, 0.9379887712755794, 0.9418528276926577, 0.90646784081425, 0.8850481503422519, 0.9179843247262949, 0.9276533338306938, 0.9036673071252723, 0.8863572410097708, 0.914893172043157, 0.9090070960578447, 0.9186984114149233, 0.9121157960508701, 0.9220005298978706, 0.934998583989542, 0.8839585132124463, 0.9021568768239462, 0.8918236656497022, 0.9242984725745178, 0.8870503111360595, 0.9130069602354375, 0.9003317371993598, 0.9235917785551128, 0.9084215592927324, 0.9142651670004713, 0.9299821656480745, 0.8903122824461732, 0.921512187858518, 0.8952568501272137, 0.9130723003828073, 0.8824504431027989, 0.9078700402164468, 0.9064311919646649, 0.8818342080130324, 0.91698513251217, 0.9105049315366631, 0.9187716419478803, 0.9378126646450949, 0.9040851055962049, 0.8891015400731366, 0.9363869244833565, 0.9219126448156121, 0.9104895921526027, 0.9161857373006759, 0.9334612726569742, 0.9051055368767369, 0.9002981885621119, 0.9224279132831278, 0.9246875107015076, 0.8988140121014643, 0.9171213638310218, 0.8840118485774904, 0.9288111957485187, 0.912991474464508, 0.9238285043639645, 0.902516203130428, 0.9180799591442748, 0.8943930306697248, 0.907732634020137, 0.9105308458732606, 0.9064602718294916, 0.8915438888277132, 0.9378070813187138, 0.8916459899390964, 0.9222454624506214, 0.9125569758875698, 0.9181331136872042, 0.9393747665723442, 0.8946937689165526, 0.9105485994948865, 0.9252267353756198, 0.9098089435780636, 0.9087155507727241, 0.9189459871595724, 0.9041068401460699, 0.9246953341805555, 0.92203039108812, 0.9333603226948339, 0.9179625667303192, 0.9143740869945858, 0.9119150270219474, 0.9369156723152822, 0.9089146426180181, 0.9255273466597186, 0.9300515770069986, 0.8971331505806167, 0.9123063981270019, 0.9244449990313373, 0.9041109623205278, 0.9425760999060588, 0.9037162159089296, 0.9176236851318585, 0.9024940272962106, 0.9370785748418038, 0.9043440753582365, 0.9212366394798601, 0.908229729358715, 0.9321767468920158, 0.9290134645656399, 0.8832157416707868, 0.9244297172042572, 0.8913664123650014, 0.8915798860938444, 0.9329865022713808, 0.9273880263709378, 0.9059266074914192, 0.9208872549785116, 0.9281010081506369, 0.9056734567796956, 0.8950328783134098, 0.9342635737621765, 0.9098018162755899, 0.9183801910818215, 0.9170893252937548, 0.9310174233994211, 0.9207682238724233, 0.9125218769832306, 0.9012289611397927, 0.9153564463000734, 0.9012762366461305, 0.9214996955412277, 0.9255312146059269, 0.9370801888476364, 0.8926906645336306, 0.908972035445693, 0.910031449838023, 0.9288474340019395, 0.9167115896593468, 0.9329877477069541, 0.9093244989717927, 0.9071767122526049, 0.9026949378819579, 0.897299382650808, 0.887910153515352, 0.9251272148308278, 0.9180125023171639, 0.9398834213810483, 0.9198523088654171, 0.9267499907781914, 0.9075206223978425, 0.9059195977436554, 0.9233330124043057, 0.9208680195397886, 0.9265652107465925, 0.9315070394022781, 0.9262072611636739, 0.922732427596074, 0.9167825066302961, 0.910197590488842, 0.89028405061464, 0.9142482710010805, 0.9047853056937707, 0.9181370497008963, 0.9035354784581793, 0.8970490033238735, 0.920207684967776, 0.9189670071964098, 0.9195491376879669, 0.8910817313138839, 0.9133733629685995, 0.9059880918169314, 0.9112101863798602, 0.90400141406957, 0.9365607105249775, 0.9087030409044731, 0.9134944595662062, 0.8932269006833143, 0.9299386961722175, 0.9055867487781069, 0.9238500603553372, 0.8980710390096951, 0.9231439965615909, 0.9096186587530268, 0.9264687623912445, 0.9209419456237025, 0.9062134494361902, 0.9258461900105377, 0.9399338198546032, 0.918740391338821, 0.908599741938885, 0.9044863563835145, 0.9124811225113634, 0.9159175426706414, 0.9297491793728985, 0.9166277087176069, 0.8982280904738527, 0.9280111949885894, 0.9138039716137561, 0.8920756940747934, 0.9191398430161809, 0.9019203593238538, 0.9328654590664316, 0.8961445945022761, 0.8857979937678301, 0.9024255937444832, 0.9240632382295282, 0.9219462369570861, 0.8917363348094262, 0.8858318393731172, 0.9139440879663285, 0.9079411830421413, 0.8893319369460524, 0.8966520730818457, 0.919938952166926, 0.9176864744160549, 0.9099649889102537, 0.9173633173902038, 0.9129589891255665, 0.9186720285119088, 0.9214128475074131, 0.9109231827963544, 0.9019283291281281, 0.8989081824547857, 0.9202955620924883, 0.8947924239608471, 0.9000432406503005, 0.9329675958965187, 0.9234661460874993, 0.8909275854335595, 0.892050104135368, 0.9221421584122478, 0.9075137063547168, 0.9103811521532905, 0.914252157861404, 0.9177709925998505, 0.9303408038591585, 0.8966562582208171, 0.9227544354652473, 0.8902242507486089, 0.9312454976583526, 0.9053531064305482, 0.9085963996278186, 0.9073956542720152, 0.9118329947877295, 0.9311570749356002, 0.9313165070156819, 0.9193654672348386, 0.9107157545436838, 0.9103046253099648, 0.904114748233092, 0.9005606941226001, 0.926525686685445, 0.928723651519396, 0.916425355599491, 0.9098147003339797, 0.9078098592968531, 0.9338485940349188, 0.9208917475257772, 0.9188529528509913, 0.918787136353366, 0.9096531724553953, 0.9054955847767274, 0.9089998402524933, 0.9385183739926837, 0.9101821251407474, 0.895085772529212, 0.9236778662269967, 0.9167888467370798, 0.9177446024365727, 0.8885518884043454, 0.9235602809988962, 0.9114091845546048, 0.9004783651498386, 0.9041966765065641, 0.9325695297651174, 0.9075487863866628, 0.9084734983057797, 0.908723328451293, 0.9163844171311676, 0.92561614630544, 0.9027782145332748, 0.9087989242740703, 0.906677000253669, 0.8976287602168725, 0.9052112039311118, 0.9106045590181916, 0.8956672004495965, 0.9166179903607645, 0.9136353995960842, 0.9108293554541036, 0.9105298172771917, 0.920341008744691, 0.9145789577583447, 0.9065585847060864, 0.9117406362563923, 0.9226610601219126, 0.9092920826438426, 0.8922432162411114, 0.8978434078735782, 0.9166843729409805, 0.9130353613075307, 0.9123947012861059, 0.9160260928776038, 0.9375560385272862, 0.9154749629473375, 0.9153716389378005, 0.8941049159256654, 0.8990162974387578, 0.9106253921591455, 0.9173128969958078, 0.9257564052147299, 0.9203174053403176, 0.9169861792816683, 0.9204774881957603, 0.9317875625588382, 0.9236875905824845, 0.9287617691056193, 0.9242739493286078, 0.9081607695347, 0.928881862405439, 0.8895112050440598, 0.9103562855255244, 0.9251247121112297, 0.9152812518074908, 0.9124619612939451, 0.9113894248132246, 0.8937734085081528, 0.904676699736664, 0.906306566492183, 0.9149805079150671, 0.9175956176676696, 0.9257044537951281, 0.9138150050010273, 0.9264867256983617, 0.9105880482596209, 0.8933158454390228, 0.901482971361388, 0.8963049977832763, 0.9130050424268618, 0.9002407616731822, 0.9099411937145804, 0.9436120270674744, 0.9204880532755653, 0.902665804651827, 0.9196122476885044, 0.9078993255693631, 0.9099120770415785, 0.9015227603377552, 0.9435039588423081, 0.9267750875673846, 0.9105007030242702, 0.9090712142168492, 0.9231067186167069, 0.9252463253511243, 0.9279993034062859, 0.9126539618962348, 0.9143191068452442, 0.9021913692669065, 0.9143164748233151, 0.8913315369336481, 0.9253653728171791, 0.9129899244912136, 0.9315702340444976, 0.8922280555768747, 0.900585751950701, 0.915842069315972, 0.9246036229091471, 0.9197633681049776, 0.9321848963550406, 0.8864512997960998, 0.9094394386914589, 0.9234059496425325, 0.9157619535369779, 0.9234246488842848, 0.9164965199890969, 0.8972229279017653, 0.9153272618051235, 0.9196441076024469, 0.888975141158003, 0.911767717794591, 0.9206176170805633, 0.890694953251533, 0.9181945795438775, 0.8851424137490899, 0.8839698192144623, 0.8859281286255408, 0.9280516359818842, 0.9106692198608497, 0.8781244552261906, 0.8953326289064187, 0.9096879379916524, 0.9175219076692054, 0.9069509619903219, 0.9326880288461814, 0.8759749794926632, 0.8990204521474892, 0.9238203913116357, 0.8994947570101938, 0.894006162061157, 0.908219016802421, 0.9180159798421801, 0.9141798265614579, 0.9094904769094369, 0.9143547684804003, 0.9227579331712791, 0.9236904186280416, 0.9341551880172397, 0.9116105557412941, 0.9071551918303363, 0.9341927159105183, 0.9299017797701047, 0.9069780767466358, 0.8938647411568188, 0.8853906566801525, 0.8908247228322786, 0.9177673688112297, 0.897742791488546, 0.8981506865656418, 0.9357733614289562, 0.9153301855027076, 0.8871462290397414, 0.903036840773683, 0.9191837783474379, 0.9147667835718853, 0.9026006670354852, 0.9026458797831977, 0.9116421873404145, 0.9344934190131864, 0.9203418104048386, 0.8972847197173429, 0.9077494427831357, 0.8984847260981123, 0.9205722864650696, 0.9365330676626039, 0.902229623081894, 0.918911415643339, 0.9248833268058132, 0.9049871421675446, 0.9134796178935838, 0.9168116570845983, 0.9121789211026639, 0.9279302961256585, 0.914211842938826, 0.8869712037931159, 0.8905211985531938, 0.8886479560690395, 0.9156012568420749, 0.9100050723628912, 0.9127720410020944, 0.9169982893928676, 0.9305790168628131, 0.9004711227863689, 0.9059932782215967, 0.9025015388890696, 0.9263086433473218, 0.9142418785990751, 0.9277148510392688, 0.9137215709285198, 0.9058035078600705, 0.8861311075908885, 0.9245187423362454, 0.9355622050654899, 0.9074137791209969, 0.9039132486090456, 0.9215009565237567, 0.9152230639665034, 0.9180517122279285, 0.9311793011334999, 0.8686429225116773, 0.915720075361644, 0.9125660270717365, 0.9061172822101788, 0.9320105725665135, 0.9183361764343072, 0.9034134750394678, 0.9110179448208591, 0.926128837446704, 0.8969208020790994, 0.9022641807733616, 0.91803358201264, 0.912570664428928, 0.9247510472686649, 0.9223520362730507, 0.8978464707010835, 0.911655057572421, 0.9314939489428624, 0.8953607042453268, 0.9298610664503509, 0.9181428388315731, 0.9297948032972531, 0.9132714191897219, 0.9058386576892976, 0.9072903285003945, 0.9195459138276177, 0.9254950344952794, 0.8965116252193532, 0.9321181406734336, 0.901225758324811, 0.9129643073704812, 0.9097061229745982, 0.9037664582349889, 0.8963196437642269, 0.9032105212983079, 0.8854641125862811, 0.8801187803858945, 0.9084197755878627, 0.9176854861852362]\n"
          ]
        }
      ],
      "source": [
        "print(scores)"
      ]
    },
    {
      "cell_type": "code",
      "execution_count": 24,
      "metadata": {
        "colab": {
          "base_uri": "https://localhost:8080/"
        },
        "id": "y1DNwEF8rFQx",
        "outputId": "68f48662-4a11-4f9c-d97e-a3305c9bc0cc"
      },
      "outputs": [
        {
          "data": {
            "text/plain": [
              "1287"
            ]
          },
          "execution_count": 24,
          "metadata": {},
          "output_type": "execute_result"
        }
      ],
      "source": [
        "np.argmax(scores)"
      ]
    },
    {
      "cell_type": "code",
      "execution_count": 43,
      "metadata": {
        "colab": {
          "base_uri": "https://localhost:8080/"
        },
        "id": "7XaBi3etrHgT",
        "outputId": "1138153a-834a-446e-ef1f-89dff4d59093"
      },
      "outputs": [
        {
          "data": {
            "text/plain": [
              "0.9504612448928291"
            ]
          },
          "execution_count": 43,
          "metadata": {},
          "output_type": "execute_result"
        }
      ],
      "source": [
        "X_train,X_test,Y_train,Y_test= train_test_split(X,Y, test_size=0.25,random_state=1287)\n",
        "lr = LinearRegression()\n",
        "pipe=make_pipeline(column_trans,lr)\n",
        "pipe.fit(X_train,Y_train)\n",
        "Y_pred= pipe.predict(X_text)\n",
        "r2_score(Y_test,Y_pred)\n"
      ]
    },
    {
      "cell_type": "code",
      "execution_count": 44,
      "metadata": {
        "id": "OXz9szMlreMg"
      },
      "outputs": [],
      "source": [
        "pickle.dump(pipe,open(\"trained_model.pkl\",\"wb\"))"
      ]
    },
    {
      "cell_type": "code",
      "execution_count": null,
      "metadata": {
        "id": "Yl6cveZruY_D"
      },
      "outputs": [],
      "source": []
    }
  ],
  "metadata": {
    "colab": {
      "provenance": []
    },
    "kernelspec": {
      "display_name": "Python 3",
      "name": "python3"
    },
    "language_info": {
      "name": "python"
    }
  },
  "nbformat": 4,
  "nbformat_minor": 0
}
